{
 "nbformat": 4,
 "nbformat_minor": 0,
 "metadata": {
  "colab": {
   "provenance": []
  },
  "kernelspec": {
   "name": "python3",
   "language": "python",
   "display_name": "Python 3 (ipykernel)"
  },
  "language_info": {
   "name": "python"
  }
 },
 "cells": [
  {
   "cell_type": "markdown",
   "source": [
    "# Estudiante: Erikson Neira\n",
    " - Ejecutado desde un entorno local"
   ],
   "metadata": {
    "collapsed": false
   }
  },
  {
   "cell_type": "code",
   "execution_count": 44,
   "metadata": {
    "id": "0uKKxE7lVSB2",
    "colab": {
     "base_uri": "https://localhost:8080/",
     "height": 1000
    },
    "executionInfo": {
     "status": "ok",
     "timestamp": 1686743847774,
     "user_tz": 300,
     "elapsed": 54844,
     "user": {
      "displayName": "AR SISTEMAS",
      "userId": "12110042166655504529"
     }
    },
    "outputId": "21c8a0e6-1b03-4871-9213-ab4247add92f",
    "ExecuteTime": {
     "end_time": "2023-06-14T14:34:43.795691700Z",
     "start_time": "2023-06-14T14:34:39.167041500Z"
    }
   },
   "outputs": [
    {
     "name": "stderr",
     "output_type": "stream",
     "text": [
      "C:\\Users\\NEIRA\\anaconda3\\python.exe: No module named spacy\n"
     ]
    }
   ],
   "source": [
    "!python -m spacy download es_core_news_sm\n",
    "!pip install pyLDAvis -q"
   ]
  },
  {
   "cell_type": "code",
   "source": [
    "import pandas as pd\n",
    "df = pd.read_csv(\"../data/resumenes_short.csv\",delimiter='\\t')\n",
    "len(df)"
   ],
   "metadata": {
    "colab": {
     "base_uri": "https://localhost:8080/"
    },
    "id": "3T-SJj6WROTF",
    "outputId": "29c2cf0d-8274-4c23-a50b-177db0c74ccb",
    "executionInfo": {
     "status": "ok",
     "timestamp": 1686743964094,
     "user_tz": 300,
     "elapsed": 496,
     "user": {
      "displayName": "AR SISTEMAS",
      "userId": "12110042166655504529"
     }
    },
    "ExecuteTime": {
     "end_time": "2023-06-14T14:34:43.898780100Z",
     "start_time": "2023-06-14T14:34:43.803707100Z"
    }
   },
   "execution_count": 45,
   "outputs": [
    {
     "data": {
      "text/plain": "539"
     },
     "execution_count": 45,
     "metadata": {},
     "output_type": "execute_result"
    }
   ]
  },
  {
   "cell_type": "code",
   "source": [
    "!pip install gensim -q"
   ],
   "metadata": {
    "colab": {
     "base_uri": "https://localhost:8080/"
    },
    "id": "n8Fn_TPSygdL",
    "executionInfo": {
     "status": "ok",
     "timestamp": 1686744218814,
     "user_tz": 300,
     "elapsed": 6453,
     "user": {
      "displayName": "AR SISTEMAS",
      "userId": "12110042166655504529"
     }
    },
    "outputId": "b241df9e-d247-474f-a1ed-92a1d3b2a734",
    "ExecuteTime": {
     "end_time": "2023-06-14T14:34:48.298408700Z",
     "start_time": "2023-06-14T14:34:43.901749600Z"
    }
   },
   "execution_count": 46,
   "outputs": []
  },
  {
   "cell_type": "code",
   "source": [
    "texts = list(df['text'].values)"
   ],
   "metadata": {
    "id": "I8USXmTSBUu1",
    "executionInfo": {
     "status": "ok",
     "timestamp": 1686743972277,
     "user_tz": 300,
     "elapsed": 295,
     "user": {
      "displayName": "AR SISTEMAS",
      "userId": "12110042166655504529"
     }
    },
    "ExecuteTime": {
     "end_time": "2023-06-14T14:34:48.313092500Z",
     "start_time": "2023-06-14T14:34:48.299404600Z"
    }
   },
   "execution_count": 47,
   "outputs": []
  },
  {
   "cell_type": "code",
   "source": [
    "%matplotlib inline\n",
    "import nltk\n",
    "import re\n",
    "import numpy as np\n",
    "import pandas as  pd\n",
    "from pprint import pprint# Gensim\n",
    "import gensim\n",
    "import gensim.corpora as corpora\n",
    "from gensim.utils import simple_preprocess\n",
    "from gensim.models import CoherenceModel# spaCy for preprocessing\n",
    "import spacy# Plotting tools\n",
    "import pyLDAvis\n",
    "import matplotlib.pyplot as plt"
   ],
   "metadata": {
    "colab": {
     "base_uri": "https://localhost:8080/",
     "height": 703
    },
    "id": "AK567VR3WCHW",
    "outputId": "4eea1484-6207-45fe-8f5d-34425574c8d6",
    "executionInfo": {
     "status": "error",
     "timestamp": 1686744226630,
     "user_tz": 300,
     "elapsed": 10,
     "user": {
      "displayName": "AR SISTEMAS",
      "userId": "12110042166655504529"
     }
    },
    "ExecuteTime": {
     "end_time": "2023-06-14T14:34:48.353136400Z",
     "start_time": "2023-06-14T14:34:48.318259900Z"
    }
   },
   "execution_count": 48,
   "outputs": []
  },
  {
   "cell_type": "code",
   "source": [
    "nltk.download('stopwords')\n",
    "# NLTK Stop words\n",
    "from nltk.corpus import stopwords\n",
    "stop_words = stopwords.words('spanish')\n",
    "stop_words[:10]"
   ],
   "metadata": {
    "colab": {
     "base_uri": "https://localhost:8080/"
    },
    "id": "ZAoUgPXgYT7l",
    "outputId": "72a919ea-de6f-4b07-b07d-e4de08f7a760",
    "ExecuteTime": {
     "end_time": "2023-06-14T14:34:48.369517200Z",
     "start_time": "2023-06-14T14:34:48.357693900Z"
    }
   },
   "execution_count": 49,
   "outputs": [
    {
     "name": "stderr",
     "output_type": "stream",
     "text": [
      "[nltk_data] Downloading package stopwords to\n",
      "[nltk_data]     C:\\Users\\NEIRA\\AppData\\Roaming\\nltk_data...\n",
      "[nltk_data]   Package stopwords is already up-to-date!\n"
     ]
    },
    {
     "data": {
      "text/plain": "['de', 'la', 'que', 'el', 'en', 'y', 'a', 'los', 'del', 'se']"
     },
     "execution_count": 49,
     "metadata": {},
     "output_type": "execute_result"
    }
   ]
  },
  {
   "cell_type": "code",
   "source": [
    "# Convert to list\n",
    "data = df.text.values.tolist()\n",
    "# Remove Emails\n",
    "data = [re.sub('\\S*@\\S*\\s?', '', sent) for sent in data]\n",
    "# Remove new line characters\n",
    "data = [re.sub('\\s+', ' ', sent) for sent in data]\n",
    "# Remove distracting single quotes\n",
    "data = [re.sub(\"\\'\", \"\", sent) for sent in data]"
   ],
   "metadata": {
    "id": "QWiVeNibX9f4",
    "ExecuteTime": {
     "end_time": "2023-06-14T14:34:48.888896900Z",
     "start_time": "2023-06-14T14:34:48.374336400Z"
    }
   },
   "execution_count": 50,
   "outputs": [
    {
     "name": "stderr",
     "output_type": "stream",
     "text": [
      "<>:4: DeprecationWarning: invalid escape sequence '\\S'\n",
      "<>:6: DeprecationWarning: invalid escape sequence '\\s'\n",
      "<>:4: DeprecationWarning: invalid escape sequence '\\S'\n",
      "<>:6: DeprecationWarning: invalid escape sequence '\\s'\n",
      "C:\\Users\\NEIRA\\AppData\\Local\\Temp\\ipykernel_10920\\3916954315.py:4: DeprecationWarning: invalid escape sequence '\\S'\n",
      "  data = [re.sub('\\S*@\\S*\\s?', '', sent) for sent in data]\n",
      "C:\\Users\\NEIRA\\AppData\\Local\\Temp\\ipykernel_10920\\3916954315.py:6: DeprecationWarning: invalid escape sequence '\\s'\n",
      "  data = [re.sub('\\s+', ' ', sent) for sent in data]\n"
     ]
    }
   ]
  },
  {
   "cell_type": "code",
   "source": [
    "data[:1]"
   ],
   "metadata": {
    "colab": {
     "base_uri": "https://localhost:8080/"
    },
    "id": "ACOXDf2cCf4e",
    "outputId": "7d510c3d-f098-4f9a-d799-9feb0d93551c",
    "ExecuteTime": {
     "end_time": "2023-06-14T14:34:48.906789Z",
     "start_time": "2023-06-14T14:34:48.890318700Z"
    }
   },
   "execution_count": 51,
   "outputs": [
    {
     "data": {
      "text/plain": "['Ficha Resumen - Informe de Control Posterior I. Información general de informes de control posterior: N° de informe: 001-2021-2-0066 Título del informe: Venta directa de bienes inmuebles en la Municipalidad Distrital de José Luis Bustamante y Rivero Objetivo general: Establecer si la venta directa de los terrenos de propiedad de la Municipalidad Distrital de José Luis Bustamante y Rivero ubicados en la urbanización San Basilio, se ejecutó conforme la normativa aplicable. Periodo: 1 de agosto de 2010 al 31 de diciembre de 2014 Entidad sujeta a control: MUNICIPALIDAD DISTRITAL DE JOSÉ LUIS BUSTAMANTE Y RIVERO Monto objeto del servicio (de corresponder):S/ 282,404.50 Ubigeo: Región: AREQUIPAProvincia: AREQUIPADistrito: JOSE LUIS BUSTAMANTE Y RIVERO Fecha de emisión del informe:08/04/2021 Unidad orgánica que emite el informe:OCI - MUNICIPALIDAD DISTRITAL DE JOSÉ LUIS BUSTAMANTE Y RIVERO II. Tipo de servicio de control posterior: Item Tipo de control: (marcar con \"X\") 1 Auditoría de Cumplimiento 2 Auditoría Financiera 3 Auditoría de Desempeño 4 Servicio de Control Específico a Hechos con Presunta Irregularidad X 5 Acción de Oficio Posterior III. Resultados del servicio de control posterior: 1 Argumentos de Hecho (irregularidades advertidas): Funcionarios vendieron predios de propiedad de la Entidad inobservando normativa referidas al uso y disposición de los bienes inmuebles, por un precio menor al del mercado, ocasionando un perjuicio económico de S/ 417 776,50. 2 Recomendaciones: 1. Al Titular de la Entidad: Disponer el inicio de las acciones administrativas para el deslinde de las responsabilidades que correspondan, de los funcionarios de la Municipalidad Distrital de José Luis Bustamante y Rivero comprendidos en los hechos irregulares \"Funcionarios vendieron predios de propiedad de la Entidad inobservando normativa referidas al uso y disposición de los bienes inmuebles, por un precio menor al del mercado, ocasionando un perjuicio económico de S/ 417 776,50\" del presente Informe de Control Específico, de acuerdo a las normas que regulan la materia, y de corresponder, en atención a su potestad sancionadora, deberá declarar la correspondiente prescripción de los mismos. 2. Al Procurador Público de la Municipalidad Distrital de José Luis Bustamante y Rivero: Dar el inicio a las acciones legales civiles contra los funcionarios públicos comprendidos en los hechos con evidencias de irregularidad del presente Informe de Control Específico. 3 Personas comprendidas en los hechos específicos irregulares y presuntas responsabilidades identificadas (Apéndice N° 1): DNI Nombres y apellidos Civil Penal Adm. ENT 29661283 EDWING RENZO MEDINA MORON X X 29528027 OSCAR FELIPE ZUÑIGA ROSAS X 2021- CPO-0066-00001']"
     },
     "execution_count": 51,
     "metadata": {},
     "output_type": "execute_result"
    }
   ]
  },
  {
   "cell_type": "code",
   "source": [
    "def sent_to_words(sentences):\n",
    "  for sentence in sentences:\n",
    "    yield gensim.utils.simple_preprocess(str(sentence), deacc=True)  #deacc=True removes punctuations\n",
    "data_words = list(sent_to_words(data))\n",
    "print(data_words[:1])"
   ],
   "metadata": {
    "colab": {
     "base_uri": "https://localhost:8080/"
    },
    "id": "hlhFFBl0dykb",
    "outputId": "a9f6747d-6806-4989-db06-721862914325",
    "ExecuteTime": {
     "end_time": "2023-06-14T14:34:50.982247Z",
     "start_time": "2023-06-14T14:34:48.910156400Z"
    }
   },
   "execution_count": 52,
   "outputs": [
    {
     "name": "stdout",
     "output_type": "stream",
     "text": [
      "[['ficha', 'resumen', 'informe', 'de', 'control', 'posterior', 'informacion', 'general', 'de', 'informes', 'de', 'control', 'posterior', 'de', 'informe', 'titulo', 'del', 'informe', 'venta', 'directa', 'de', 'bienes', 'inmuebles', 'en', 'la', 'municipalidad', 'distrital', 'de', 'jose', 'luis', 'bustamante', 'rivero', 'objetivo', 'general', 'establecer', 'si', 'la', 'venta', 'directa', 'de', 'los', 'terrenos', 'de', 'propiedad', 'de', 'la', 'municipalidad', 'distrital', 'de', 'jose', 'luis', 'bustamante', 'rivero', 'ubicados', 'en', 'la', 'urbanizacion', 'san', 'basilio', 'se', 'ejecuto', 'conforme', 'la', 'normativa', 'aplicable', 'periodo', 'de', 'agosto', 'de', 'al', 'de', 'diciembre', 'de', 'entidad', 'sujeta', 'control', 'municipalidad', 'distrital', 'de', 'jose', 'luis', 'bustamante', 'rivero', 'monto', 'objeto', 'del', 'servicio', 'de', 'corresponder', 'ubigeo', 'region', 'jose', 'luis', 'bustamante', 'rivero', 'fecha', 'de', 'emision', 'del', 'informe', 'unidad', 'organica', 'que', 'emite', 'el', 'informe', 'oci', 'municipalidad', 'distrital', 'de', 'jose', 'luis', 'bustamante', 'rivero', 'ii', 'tipo', 'de', 'servicio', 'de', 'control', 'posterior', 'item', 'tipo', 'de', 'control', 'marcar', 'con', 'auditoria', 'de', 'cumplimiento', 'auditoria', 'financiera', 'auditoria', 'de', 'desempeno', 'servicio', 'de', 'control', 'especifico', 'hechos', 'con', 'presunta', 'irregularidad', 'accion', 'de', 'oficio', 'posterior', 'iii', 'resultados', 'del', 'servicio', 'de', 'control', 'posterior', 'argumentos', 'de', 'hecho', 'irregularidades', 'advertidas', 'funcionarios', 'vendieron', 'predios', 'de', 'propiedad', 'de', 'la', 'entidad', 'inobservando', 'normativa', 'referidas', 'al', 'uso', 'disposicion', 'de', 'los', 'bienes', 'inmuebles', 'por', 'un', 'precio', 'menor', 'al', 'del', 'mercado', 'ocasionando', 'un', 'perjuicio', 'economico', 'de', 'recomendaciones', 'al', 'titular', 'de', 'la', 'entidad', 'disponer', 'el', 'inicio', 'de', 'las', 'acciones', 'administrativas', 'para', 'el', 'deslinde', 'de', 'las', 'que', 'correspondan', 'de', 'los', 'funcionarios', 'de', 'la', 'municipalidad', 'distrital', 'de', 'jose', 'luis', 'bustamante', 'rivero', 'comprendidos', 'en', 'los', 'hechos', 'irregulares', 'funcionarios', 'vendieron', 'predios', 'de', 'propiedad', 'de', 'la', 'entidad', 'inobservando', 'normativa', 'referidas', 'al', 'uso', 'disposicion', 'de', 'los', 'bienes', 'inmuebles', 'por', 'un', 'precio', 'menor', 'al', 'del', 'mercado', 'ocasionando', 'un', 'perjuicio', 'economico', 'de', 'del', 'presente', 'informe', 'de', 'control', 'especifico', 'de', 'acuerdo', 'las', 'normas', 'que', 'regulan', 'la', 'materia', 'de', 'corresponder', 'en', 'atencion', 'su', 'potestad', 'sancionadora', 'debera', 'declarar', 'la', 'correspondiente', 'prescripcion', 'de', 'los', 'mismos', 'al', 'procurador', 'publico', 'de', 'la', 'municipalidad', 'distrital', 'de', 'jose', 'luis', 'bustamante', 'rivero', 'dar', 'el', 'inicio', 'las', 'acciones', 'legales', 'civiles', 'contra', 'los', 'funcionarios', 'publicos', 'comprendidos', 'en', 'los', 'hechos', 'con', 'evidencias', 'de', 'irregularidad', 'del', 'presente', 'informe', 'de', 'control', 'especifico', 'personas', 'comprendidas', 'en', 'los', 'hechos', 'especificos', 'irregulares', 'presuntas', 'identificadas', 'apendice', 'dni', 'nombres', 'apellidos', 'civil', 'penal', 'adm', 'ent', 'edwing', 'renzo', 'medina', 'moron', 'oscar', 'felipe', 'zuniga', 'rosas', 'cpo']]\n"
     ]
    }
   ]
  },
  {
   "cell_type": "code",
   "source": [
    "# Build the bigram and trigram models\n",
    "bigram = gensim.models.Phrases(data_words, min_count=5, threshold=100) # higher threshold fewer phrases.\n",
    "trigram = gensim.models.Phrases(bigram[data_words], threshold=100)\n",
    "# Faster way to get a sentence clubbed as a trigram/bigram\n",
    "bigram_mod = gensim.models.phrases.Phraser(bigram)\n",
    "trigram_mod = gensim.models.phrases.Phraser(trigram)\n",
    "# See trigram example\n",
    "print(trigram_mod[bigram_mod[data_words[0]]])"
   ],
   "metadata": {
    "colab": {
     "base_uri": "https://localhost:8080/"
    },
    "id": "QDSwCiLveIhA",
    "outputId": "71062c18-1142-448e-c9bc-04991bbb5f6d",
    "ExecuteTime": {
     "end_time": "2023-06-14T14:34:53.347364200Z",
     "start_time": "2023-06-14T14:34:51.032054800Z"
    }
   },
   "execution_count": 53,
   "outputs": [
    {
     "name": "stdout",
     "output_type": "stream",
     "text": [
      "['ficha', 'resumen', 'informe', 'de', 'control', 'posterior', 'informacion', 'general', 'de', 'informes', 'de', 'control', 'posterior', 'de', 'informe', 'titulo', 'del', 'informe', 'venta', 'directa', 'de', 'bienes', 'inmuebles', 'en', 'la', 'municipalidad', 'distrital', 'de', 'jose_luis_bustamante', 'rivero', 'objetivo', 'general', 'establecer', 'si', 'la', 'venta', 'directa', 'de', 'los', 'terrenos', 'de', 'propiedad', 'de', 'la', 'municipalidad', 'distrital', 'de', 'jose_luis_bustamante', 'rivero', 'ubicados', 'en', 'la', 'urbanizacion', 'san', 'basilio', 'se', 'ejecuto', 'conforme', 'la', 'normativa', 'aplicable', 'periodo', 'de', 'agosto', 'de', 'al', 'de', 'diciembre', 'de', 'entidad', 'sujeta', 'control', 'municipalidad', 'distrital', 'de', 'jose_luis_bustamante', 'rivero', 'monto', 'objeto', 'del', 'servicio', 'de', 'corresponder', 'ubigeo', 'region', 'jose_luis_bustamante', 'rivero', 'fecha', 'de', 'emision', 'del', 'informe', 'unidad', 'organica', 'que', 'emite', 'el', 'informe', 'oci', 'municipalidad', 'distrital', 'de', 'jose_luis_bustamante', 'rivero', 'ii', 'tipo', 'de', 'servicio', 'de', 'control', 'posterior', 'item', 'tipo', 'de', 'control', 'marcar', 'con', 'auditoria', 'de', 'cumplimiento', 'auditoria', 'financiera', 'auditoria', 'de', 'desempeno', 'servicio', 'de', 'control', 'especifico', 'hechos', 'con', 'presunta', 'irregularidad', 'accion', 'de', 'oficio', 'posterior', 'iii', 'resultados', 'del', 'servicio', 'de', 'control', 'posterior', 'argumentos', 'de', 'hecho_irregularidades_advertidas', 'funcionarios', 'vendieron', 'predios', 'de', 'propiedad', 'de', 'la', 'entidad', 'inobservando', 'normativa', 'referidas', 'al', 'uso', 'disposicion', 'de', 'los', 'bienes', 'inmuebles', 'por', 'un', 'precio', 'menor', 'al', 'del', 'mercado', 'ocasionando', 'un', 'perjuicio', 'economico', 'de', 'recomendaciones', 'al', 'titular', 'de', 'la', 'entidad', 'disponer', 'el', 'inicio', 'de', 'las', 'acciones', 'administrativas', 'para', 'el', 'deslinde', 'de', 'las', 'que', 'correspondan', 'de', 'los', 'funcionarios', 'de', 'la', 'municipalidad', 'distrital', 'de', 'jose_luis_bustamante', 'rivero', 'comprendidos', 'en', 'los', 'hechos', 'irregulares', 'funcionarios', 'vendieron', 'predios', 'de', 'propiedad', 'de', 'la', 'entidad', 'inobservando', 'normativa', 'referidas', 'al', 'uso', 'disposicion', 'de', 'los', 'bienes', 'inmuebles', 'por', 'un', 'precio', 'menor', 'al', 'del', 'mercado', 'ocasionando', 'un', 'perjuicio', 'economico', 'de', 'del', 'presente', 'informe', 'de', 'control', 'especifico', 'de', 'acuerdo', 'las', 'normas', 'que', 'regulan', 'la', 'materia', 'de', 'corresponder', 'en', 'atencion', 'su', 'potestad_sancionadora', 'debera', 'declarar', 'la', 'correspondiente', 'prescripcion', 'de', 'los', 'mismos', 'al', 'procurador_publico', 'de', 'la', 'municipalidad', 'distrital', 'de', 'jose_luis_bustamante', 'rivero', 'dar', 'el', 'inicio', 'las', 'acciones', 'legales', 'civiles_contra', 'los', 'funcionarios', 'publicos', 'comprendidos', 'en', 'los', 'hechos', 'con', 'evidencias', 'de', 'irregularidad', 'del', 'presente', 'informe', 'de', 'control', 'especifico_personas_comprendidas', 'en', 'los', 'hechos', 'especificos_irregulares_presuntas', 'identificadas', 'apendice', 'dni', 'nombres', 'apellidos', 'civil', 'penal', 'adm', 'ent', 'edwing', 'renzo', 'medina', 'moron', 'oscar', 'felipe', 'zuniga', 'rosas', 'cpo']\n"
     ]
    }
   ]
  },
  {
   "cell_type": "code",
   "source": [
    "# Define function for stopwords, bigrams, trigrams and lemmatization\n",
    "def remove_stopwords(texts):\n",
    "    return [[word for word in simple_preprocess(str(doc)) if word not in stop_words] for doc in texts]\n",
    "\n",
    "def make_bigrams(texts):\n",
    "    return [bigram_mod[doc] for doc in texts]\n",
    "\n",
    "def make_trigrams(texts):\n",
    "    return [trigram_mod[bigram_mod[doc]] for doc in texts]\n",
    "\n",
    "def lemmatization(texts, allowed_postags=['NOUN', 'ADJ', 'VERB', 'ADV']):\n",
    "    \"\"\"https://spacy.io/api/annotation\"\"\"\n",
    "    texts_out = []\n",
    "    for sent in texts:\n",
    "        doc = nlp(\" \".join(sent))\n",
    "        texts_out.append([token.lemma_ for token in doc if token.pos_ in allowed_postags])\n",
    "    return texts_out"
   ],
   "metadata": {
    "id": "6ar1xkqneQnA",
    "ExecuteTime": {
     "end_time": "2023-06-14T14:34:53.406320200Z",
     "start_time": "2023-06-14T14:34:53.354244500Z"
    }
   },
   "execution_count": 54,
   "outputs": []
  },
  {
   "cell_type": "code",
   "source": [
    "# Remove Stop Words\n",
    "data_words_nostops = remove_stopwords(data_words)\n",
    "\n",
    "# Form Bigrams\n",
    "data_words_bigrams = make_bigrams(data_words_nostops)\n",
    "\n",
    "# Initialize spacy 'en' model, keeping only tagger component (for efficiency)\n",
    "# python3 -m spacy download en\n",
    "nlp = spacy.load('es_core_news_sm', disable=['parser', 'ner'])\n",
    "\n",
    "# Do lemmatization keeping only noun, adj, vb, adv\n",
    "data_lemmatized = lemmatization(data_words_bigrams, allowed_postags=['NOUN', 'ADJ', 'VERB', 'ADV'])\n",
    "\n",
    "print(data_lemmatized[:1])"
   ],
   "metadata": {
    "colab": {
     "base_uri": "https://localhost:8080/"
    },
    "id": "-1DPOALxeV1h",
    "outputId": "d288fb93-f15c-47aa-b3cf-78580875261f",
    "ExecuteTime": {
     "end_time": "2023-06-14T14:37:16.041396300Z",
     "start_time": "2023-06-14T14:36:58.005746Z"
    }
   },
   "execution_count": 57,
   "outputs": [
    {
     "name": "stdout",
     "output_type": "stream",
     "text": [
      "[['ficha', 'resumen', 'informe', 'control', 'posterior', 'general', 'informe', 'control', 'posterior', 'informe', 'titulo', 'informe', 'venta', 'directo', 'bien', 'inmuebl', 'municipalidad', 'distrital', 'jo él', 'luis_bustamante', 'rivero', 'objetivo', 'general', 'establecer', 'ventar', 'directo', 'terreno', 'propiedad', 'municipalidad', 'distrital', 'jo él', 'luis_bustamante', 'rivero', 'ubicado', 'basilio', 'ejecuto', 'normativa', 'aplicable', 'periodo', 'agosto', 'diciembre', 'entidad', 'sujeto', 'control', 'municipalidad', 'distrital', 'jo él', 'luis_bustamante', 'rivero', 'corresponder', 'jo él', 'luis_bustamante', 'rivero', 'fecho', 'informe', 'unidad', 'organico', 'emitir', 'informe', 'municipalidad', 'distrital', 'jo él', 'luis_bustamante', 'rivero', 'control', 'posterior', 'tipo', 'control', 'marcar', 'auditoria', 'cumplimiento', 'auditoria', 'financiero', 'auditorio', 'desempeno', 'servicio', 'control', 'especifico', 'hecho', 'presunto', 'irregularidad', 'accion', 'oficio', 'posterior', 'resultado', 'servicio', 'control', 'posterior', 'argumento', 'hecho_irregularidad', 'advertido', 'funcionario', 'vendar', 'predio', 'propiedad', 'entidad', 'inobservar', 'normativo', 'referido', 'uso', 'disposicion', 'bién', 'inmuebl', 'precio', 'menor', 'mercado', 'ocasionar', 'perjuicio', 'economico', 'recomendación', 'titular', 'entidad', 'disponer', 'inicio', 'acción', 'administrativo', 'deslindir', 'corresponder', 'funcionario', 'municipalidad', 'distrital', 'jo él', 'luis_bustamante', 'rivero', 'comprendido', 'hecho', 'irregular', 'funcionario', 'vendar', 'predio', 'propiedad', 'entidad', 'inobservar', 'normativo', 'referido', 'uso', 'disposicion', 'bién', 'inmuebl', 'precio', 'menor', 'mercado', 'ocasionar', 'perjuicio', 'economico', 'presente', 'informir', 'control', 'especifico', 'acuerdo', 'norma', 'regular', 'materia', 'corresponder', 'debera', 'declarar', 'correspondiente', 'prescripcion', 'procurador_publico', 'municipalidad', 'distrital', 'jo él', 'luis_bustamante', 'rivero', 'dar', 'inicio', 'acción', 'legal', 'civil', 'funcionario', 'publico', 'comprendido', 'hecho', 'evidencia', 'irregularidad', 'presente', 'informe', 'control', 'especifico', 'personas_comprendida', 'hecho', 'especificos_irregular', 'presunto', 'identificado', 'apendizar', 'nombre', 'apellido', 'civil', 'ent', 'edwing', 'moron', 'oscar']]\n"
     ]
    }
   ]
  },
  {
   "cell_type": "code",
   "source": [
    "# Create Dictionary\n",
    "id2word = corpora.Dictionary(data_lemmatized)\n",
    "# Create Corpus\n",
    "texts = data_lemmatized\n",
    "# Term Document Frequency\n",
    "corpus = [id2word.doc2bow(text) for text in texts]\n",
    "# View\n",
    "print(corpus[:1])"
   ],
   "metadata": {
    "colab": {
     "base_uri": "https://localhost:8080/"
    },
    "id": "BWl3FqOQe4Yj",
    "outputId": "9af57e3d-b7dd-4fc1-f199-de7808ff9547",
    "ExecuteTime": {
     "end_time": "2023-06-14T14:37:27.062006600Z",
     "start_time": "2023-06-14T14:37:26.286146100Z"
    }
   },
   "execution_count": 58,
   "outputs": [
    {
     "name": "stdout",
     "output_type": "stream",
     "text": [
      "[[(0, 1), (1, 2), (2, 1), (3, 1), (4, 1), (5, 1), (6, 1), (7, 1), (8, 1), (9, 1), (10, 2), (11, 1), (12, 1), (13, 1), (14, 2), (15, 2), (16, 2), (17, 9), (18, 3), (19, 1), (20, 1), (21, 1), (22, 1), (23, 1), (24, 1), (25, 1), (26, 1), (27, 2), (28, 1), (29, 2), (30, 6), (31, 2), (32, 1), (33, 1), (34, 1), (35, 1), (36, 4), (37, 3), (38, 1), (39, 1), (40, 1), (41, 1), (42, 1), (43, 1), (44, 4), (45, 2), (46, 4), (47, 1), (48, 1), (49, 7), (50, 1), (51, 2), (52, 3), (53, 2), (54, 1), (55, 2), (56, 7), (57, 1), (58, 7), (59, 1), (60, 1), (61, 2), (62, 2), (63, 1), (64, 6), (65, 1), (66, 1), (67, 1), (68, 2), (69, 1), (70, 2), (71, 1), (72, 1), (73, 1), (74, 1), (75, 2), (76, 1), (77, 5), (78, 2), (79, 2), (80, 1), (81, 2), (82, 2), (83, 1), (84, 3), (85, 1), (86, 1), (87, 2), (88, 1), (89, 1), (90, 1), (91, 7), (92, 2), (93, 1), (94, 1), (95, 1), (96, 1), (97, 1), (98, 1), (99, 1), (100, 2), (101, 2), (102, 1), (103, 1)]]\n"
     ]
    }
   ]
  },
  {
   "cell_type": "code",
   "source": [
    "lda_model = gensim.models.ldamodel.LdaModel(corpus=corpus,\n",
    "                                           id2word=id2word,\n",
    "                                           num_topics=20,\n",
    "                                           random_state=100,\n",
    "                                           update_every=1,\n",
    "                                           chunksize=100,\n",
    "                                           passes=10,\n",
    "                                           alpha='auto',\n",
    "                                           per_word_topics=True)"
   ],
   "metadata": {
    "id": "fxu5YbMoeXrS",
    "ExecuteTime": {
     "end_time": "2023-06-14T14:37:42.721627700Z",
     "start_time": "2023-06-14T14:37:27.040240100Z"
    }
   },
   "execution_count": 59,
   "outputs": []
  },
  {
   "cell_type": "code",
   "source": [
    "# Print the keyword of topics\n",
    "pprint(lda_model.print_topics())\n",
    "doc_lda = lda_model[corpus]"
   ],
   "metadata": {
    "colab": {
     "base_uri": "https://localhost:8080/"
    },
    "id": "G50qs5oHfDEN",
    "outputId": "b36aa9dd-5eb8-4a01-bda6-67074a28cb07",
    "ExecuteTime": {
     "end_time": "2023-06-14T14:37:42.832082100Z",
     "start_time": "2023-06-14T14:37:42.724659800Z"
    }
   },
   "execution_count": 60,
   "outputs": [
    {
     "name": "stdout",
     "output_type": "stream",
     "text": [
      "[(0,\n",
      "  '0.031*\"publicidad\" + 0.024*\"pamparoma\" + 0.023*\"electoral\" + '\n",
      "  '0.017*\"florencio\" + 0.014*\"publicidad_estatal\" + 0.009*\"candidato\" + '\n",
      "  '0.007*\"oncoy\" + 0.006*\"provincial\" + 0.005*\"girado\" + 0.004*\"elisr\"'),\n",
      " (1,\n",
      "  '0.074*\"bién\" + 0.049*\"menor\" + 0.046*\"compra\" + 0.044*\"proveedor\" + '\n",
      "  '0.043*\"uit\" + 0.039*\"mantenimiento\" + 0.036*\"logistico\" + 0.033*\"precio\" + '\n",
      "  '0.023*\"cotización\" + 0.020*\"bien\"'),\n",
      " (2,\n",
      "  '0.058*\"control\" + 0.042*\"informe\" + 0.029*\"posterior\" + 0.026*\"hecho\" + '\n",
      "  '0.023*\"municipalidad\" + 0.020*\"distrital\" + 0.019*\"servicio\" + '\n",
      "  '0.019*\"especifico\" + 0.017*\"entidad\" + 0.016*\"general\"'),\n",
      " (3,\n",
      "  '0.078*\"obra\" + 0.028*\"tecnico\" + 0.023*\"expediente\" + 0.013*\"partida\" + '\n",
      "  '0.013*\"mejoramiento\" + 0.012*\"informe\" + 0.012*\"entidad\" + 0.011*\"publica\" '\n",
      "  '+ 0.010*\"plazo\" + 0.009*\"contratista\"'),\n",
      " (4,\n",
      "  '0.000*\"informe\" + 0.000*\"posterior\" + 0.000*\"control\" + 0.000*\"pensionario\" '\n",
      "  '+ 0.000*\"bardal\" + 0.000*\"cuarta\" + 0.000*\"tulio\" + 0.000*\"prosegur\" + '\n",
      "  '0.000*\"cabral\" + 0.000*\"rectificatorio\"'),\n",
      " (5,\n",
      "  '0.123*\"obra\" + 0.026*\"expediente\" + 0.022*\"tecnico\" + 0.013*\"ejecucion\" + '\n",
      "  '0.013*\"informe\" + 0.011*\"supervisor\" + 0.011*\"presente\" + 0.010*\"entidad\" + '\n",
      "  '0.010*\"proceso\" + 0.010*\"proyecto\"'),\n",
      " (6,\n",
      "  '0.030*\"informe\" + 0.026*\"control\" + 0.019*\"disponer\" + 0.018*\"entidad\" + '\n",
      "  '0.017*\"servicio\" + 0.016*\"funcionario\" + 0.015*\"municipalidad\" + '\n",
      "  '0.014*\"posterior\" + 0.013*\"distrital\" + 0.011*\"auditoria\"'),\n",
      " (7,\n",
      "  '0.000*\"cuarta\" + 0.000*\"pensionario\" + 0.000*\"vinculante\" + 0.000*\"andres\" '\n",
      "  '+ 0.000*\"bardal\" + 0.000*\"tijeral\" + 0.000*\"cabral\" + 0.000*\"tulio\" + '\n",
      "  '0.000*\"pronuncie\" + 0.000*\"rectificatorio\"'),\n",
      " (8,\n",
      "  '0.000*\"funcionario\" + 0.000*\"entidad\" + 0.000*\"posterior\" + 0.000*\"informe\" '\n",
      "  '+ 0.000*\"distrital\" + 0.000*\"control\" + 0.000*\"cuarta\" + '\n",
      "  '0.000*\"pensionario\" + 0.000*\"bardal\" + 0.000*\"prosegur\"'),\n",
      " (9,\n",
      "  '0.000*\"general\" + 0.000*\"control\" + 0.000*\"obra\" + 0.000*\"posterior\" + '\n",
      "  '0.000*\"informe\" + 0.000*\"entidad\" + 0.000*\"hecho\" + 0.000*\"cuarta\" + '\n",
      "  '0.000*\"bardal\" + 0.000*\"pensionario\"'),\n",
      " (10,\n",
      "  '0.000*\"control\" + 0.000*\"hecho\" + 0.000*\"entidad\" + 0.000*\"informe\" + '\n",
      "  '0.000*\"distrital\" + 0.000*\"comprendido\" + 0.000*\"irregularidad\" + '\n",
      "  '0.000*\"economico\" + 0.000*\"disponer\" + 0.000*\"inicio\"'),\n",
      " (11,\n",
      "  '0.028*\"obra\" + 0.023*\"tecnico\" + 0.020*\"empresa\" + 0.016*\"contratar\" + '\n",
      "  '0.015*\"entidad\" + 0.015*\"distrito\" + 0.015*\"expediente\" + 0.015*\"oferta\" + '\n",
      "  '0.015*\"janga\" + 0.014*\"termino\"'),\n",
      " (12,\n",
      "  '0.000*\"informe\" + 0.000*\"cuarta\" + 0.000*\"vinculante\" + 0.000*\"andres\" + '\n",
      "  '0.000*\"bardal\" + 0.000*\"pensionario\" + 0.000*\"cabral\" + 0.000*\"tulio\" + '\n",
      "  '0.000*\"pronuncie\" + 0.000*\"rectificatorio\"'),\n",
      " (13,\n",
      "  '0.000*\"control\" + 0.000*\"hecho\" + 0.000*\"posterior\" + 0.000*\"entidad\" + '\n",
      "  '0.000*\"municipalidad\" + 0.000*\"informe\" + 0.000*\"bardal\" + 0.000*\"prosegur\" '\n",
      "  '+ 0.000*\"cabral\" + 0.000*\"cuarta\"'),\n",
      " (14,\n",
      "  '0.049*\"control\" + 0.041*\"informe\" + 0.032*\"municipalidad\" + '\n",
      "  '0.028*\"distrital\" + 0.024*\"posterior\" + 0.023*\"hecho\" + 0.020*\"funcionario\" '\n",
      "  '+ 0.020*\"publico\" + 0.018*\"entidad\" + 0.015*\"especifico\"'),\n",
      " (15,\n",
      "  '0.000*\"informe\" + 0.000*\"control\" + 0.000*\"posterior\" + 0.000*\"servicio\" + '\n",
      "  '0.000*\"general\" + 0.000*\"funcionario\" + 0.000*\"cumplimiento\" + '\n",
      "  '0.000*\"distrital\" + 0.000*\"municipal\" + 0.000*\"procedimiento\"'),\n",
      " (16,\n",
      "  '0.118*\"regir\" + 0.031*\"vehicu él\" + 0.024*\"precios_unitario\" + '\n",
      "  '0.022*\"exigencia\" + 0.018*\"pagina\" + 0.015*\"motorizado\" + 0.014*\"web\" + '\n",
      "  '0.011*\"sustenta\" + 0.003*\"inexistencia\" + 0.000*\"limpiecer\"'),\n",
      " (17,\n",
      "  '0.000*\"cuarta\" + 0.000*\"pensionario\" + 0.000*\"vinculante\" + 0.000*\"andres\" '\n",
      "  '+ 0.000*\"bardal\" + 0.000*\"tijeral\" + 0.000*\"cabral\" + 0.000*\"tulio\" + '\n",
      "  '0.000*\"pronuncie\" + 0.000*\"rectificatorio\"'),\n",
      " (18,\n",
      "  '0.070*\"mariano_melgar\" + 0.015*\"primario\" + 0.011*\"divino_amor\" + '\n",
      "  '0.011*\"educativos_prestado\" + 0.007*\"mobiliario_escolar\" + 0.007*\"arequipa\" '\n",
      "  '+ 0.004*\"eleana\" + 0.004*\"continuacion\" + 0.004*\"detallo\" + 0.004*\"mesa\"'),\n",
      " (19,\n",
      "  '0.004*\"atribuible\" + 0.000*\"ensenado\" + 0.000*\"emprendimiento\" + '\n",
      "  '0.000*\"calendario\" + 0.000*\"concluir\" + 0.000*\"cultural\" + '\n",
      "  '0.000*\"valorizado\" + 0.000*\"seg\" + 0.000*\"electrobomba\" + '\n",
      "  '0.000*\"accesorio\"')]\n"
     ]
    }
   ]
  },
  {
   "cell_type": "code",
   "source": [
    "# Compute Perplexity\n",
    "print('\\nPerplexity: ', lda_model.log_perplexity(corpus))\n",
    "# a measure of how good the model is. lower the better.\n",
    "\n",
    "# Compute Coherence Score\n",
    "coherence_model_lda = CoherenceModel(model=lda_model, texts=data_lemmatized, dictionary=id2word, coherence='c_v')\n",
    "coherence_lda = coherence_model_lda.get_coherence()\n",
    "print('\\nCoherence Score: ', coherence_lda)"
   ],
   "metadata": {
    "colab": {
     "base_uri": "https://localhost:8080/"
    },
    "id": "TJt5ea0PfHtN",
    "outputId": "f6c7a061-eb51-462d-f4db-29f5610d2d61",
    "ExecuteTime": {
     "end_time": "2023-06-14T14:37:59.553359800Z",
     "start_time": "2023-06-14T14:37:42.759367500Z"
    }
   },
   "execution_count": 61,
   "outputs": [
    {
     "name": "stdout",
     "output_type": "stream",
     "text": [
      "\n",
      "Perplexity:  -8.351084932031709\n",
      "\n",
      "Coherence Score:  0.3729062660224443\n"
     ]
    }
   ]
  },
  {
   "cell_type": "code",
   "source": [
    "import importlib\n",
    "importlib.reload(pyLDAvis)"
   ],
   "metadata": {
    "colab": {
     "base_uri": "https://localhost:8080/"
    },
    "id": "oPYb-tg2Jb0b",
    "outputId": "119bb8e8-f02e-49fb-90a6-98d6ce153805",
    "ExecuteTime": {
     "end_time": "2023-06-14T14:37:59.636647200Z",
     "start_time": "2023-06-14T14:37:59.556744300Z"
    }
   },
   "execution_count": 62,
   "outputs": [
    {
     "data": {
      "text/plain": "<module 'pyLDAvis' from 'C:\\\\Users\\\\NEIRA\\\\.conda\\\\envs\\\\unap\\\\lib\\\\site-packages\\\\pyLDAvis\\\\__init__.py'>"
     },
     "execution_count": 62,
     "metadata": {},
     "output_type": "execute_result"
    }
   ]
  },
  {
   "cell_type": "code",
   "source": [
    "import pyLDAvis\n",
    "pyLDAvis.enable_notebook()"
   ],
   "metadata": {
    "id": "d5O_nowLH0QM",
    "ExecuteTime": {
     "end_time": "2023-06-14T14:37:59.647324300Z",
     "start_time": "2023-06-14T14:37:59.570954800Z"
    }
   },
   "execution_count": 63,
   "outputs": []
  },
  {
   "cell_type": "code",
   "source": [
    "import pyLDAvis.gensim_models as gensimvis\n",
    "vis = gensimvis.prepare(lda_model, corpus, id2word)\n",
    "vis"
   ],
   "metadata": {
    "colab": {
     "base_uri": "https://localhost:8080/",
     "height": 861
    },
    "id": "_KvX-jSJfIDH",
    "outputId": "8d5e02d0-624a-4fd0-f5fc-791467766c09",
    "ExecuteTime": {
     "end_time": "2023-06-14T14:38:06.557449800Z",
     "start_time": "2023-06-14T14:37:59.636647200Z"
    }
   },
   "execution_count": 64,
   "outputs": [
    {
     "ename": "TypeError",
     "evalue": "Object of type complex is not JSON serializable",
     "output_type": "error",
     "traceback": [
      "\u001B[1;31m---------------------------------------------------------------------------\u001B[0m",
      "\u001B[1;31mTypeError\u001B[0m                                 Traceback (most recent call last)",
      "File \u001B[1;32m~\\.conda\\envs\\unap\\lib\\site-packages\\IPython\\core\\formatters.py:340\u001B[0m, in \u001B[0;36mBaseFormatter.__call__\u001B[1;34m(self, obj)\u001B[0m\n\u001B[0;32m    338\u001B[0m     \u001B[38;5;28;01mpass\u001B[39;00m\n\u001B[0;32m    339\u001B[0m \u001B[38;5;28;01melse\u001B[39;00m:\n\u001B[1;32m--> 340\u001B[0m     \u001B[38;5;28;01mreturn\u001B[39;00m \u001B[43mprinter\u001B[49m\u001B[43m(\u001B[49m\u001B[43mobj\u001B[49m\u001B[43m)\u001B[49m\n\u001B[0;32m    341\u001B[0m \u001B[38;5;66;03m# Finally look for special method names\u001B[39;00m\n\u001B[0;32m    342\u001B[0m method \u001B[38;5;241m=\u001B[39m get_real_method(obj, \u001B[38;5;28mself\u001B[39m\u001B[38;5;241m.\u001B[39mprint_method)\n",
      "File \u001B[1;32m~\\.conda\\envs\\unap\\lib\\site-packages\\pyLDAvis\\_display.py:308\u001B[0m, in \u001B[0;36menable_notebook.<locals>.<lambda>\u001B[1;34m(data, kwds)\u001B[0m\n\u001B[0;32m    305\u001B[0m ip \u001B[38;5;241m=\u001B[39m get_ipython()\n\u001B[0;32m    306\u001B[0m formatter \u001B[38;5;241m=\u001B[39m ip\u001B[38;5;241m.\u001B[39mdisplay_formatter\u001B[38;5;241m.\u001B[39mformatters[\u001B[38;5;124m'\u001B[39m\u001B[38;5;124mtext/html\u001B[39m\u001B[38;5;124m'\u001B[39m]\n\u001B[0;32m    307\u001B[0m formatter\u001B[38;5;241m.\u001B[39mfor_type(PreparedData,\n\u001B[1;32m--> 308\u001B[0m                    \u001B[38;5;28;01mlambda\u001B[39;00m data, kwds\u001B[38;5;241m=\u001B[39mkwargs: prepared_data_to_html(data, \u001B[38;5;241m*\u001B[39m\u001B[38;5;241m*\u001B[39mkwds))\n",
      "File \u001B[1;32m~\\.conda\\envs\\unap\\lib\\site-packages\\pyLDAvis\\_display.py:177\u001B[0m, in \u001B[0;36mprepared_data_to_html\u001B[1;34m(data, d3_url, ldavis_url, ldavis_css_url, template_type, visid, use_http)\u001B[0m\n\u001B[0;32m    170\u001B[0m \u001B[38;5;28;01melif\u001B[39;00m re\u001B[38;5;241m.\u001B[39msearch(\u001B[38;5;124mr\u001B[39m\u001B[38;5;124m'\u001B[39m\u001B[38;5;124m\\\u001B[39m\u001B[38;5;124ms\u001B[39m\u001B[38;5;124m'\u001B[39m, visid):\n\u001B[0;32m    171\u001B[0m     \u001B[38;5;28;01mraise\u001B[39;00m \u001B[38;5;167;01mValueError\u001B[39;00m(\u001B[38;5;124m\"\u001B[39m\u001B[38;5;124mvisid must not contain spaces\u001B[39m\u001B[38;5;124m\"\u001B[39m)\n\u001B[0;32m    173\u001B[0m \u001B[38;5;28;01mreturn\u001B[39;00m template\u001B[38;5;241m.\u001B[39mrender(visid\u001B[38;5;241m=\u001B[39mjson\u001B[38;5;241m.\u001B[39mdumps(visid),\n\u001B[0;32m    174\u001B[0m                        visid_raw\u001B[38;5;241m=\u001B[39mvisid,\n\u001B[0;32m    175\u001B[0m                        d3_url\u001B[38;5;241m=\u001B[39md3_url,\n\u001B[0;32m    176\u001B[0m                        ldavis_url\u001B[38;5;241m=\u001B[39mldavis_url,\n\u001B[1;32m--> 177\u001B[0m                        vis_json\u001B[38;5;241m=\u001B[39m\u001B[43mdata\u001B[49m\u001B[38;5;241;43m.\u001B[39;49m\u001B[43mto_json\u001B[49m\u001B[43m(\u001B[49m\u001B[43m)\u001B[49m,\n\u001B[0;32m    178\u001B[0m                        ldavis_css_url\u001B[38;5;241m=\u001B[39mldavis_css_url)\n",
      "File \u001B[1;32m~\\.conda\\envs\\unap\\lib\\site-packages\\pyLDAvis\\_prepare.py:464\u001B[0m, in \u001B[0;36mPreparedData.to_json\u001B[1;34m(self)\u001B[0m\n\u001B[0;32m    463\u001B[0m \u001B[38;5;28;01mdef\u001B[39;00m \u001B[38;5;21mto_json\u001B[39m(\u001B[38;5;28mself\u001B[39m):\n\u001B[1;32m--> 464\u001B[0m     \u001B[38;5;28;01mreturn\u001B[39;00m \u001B[43mjson\u001B[49m\u001B[38;5;241;43m.\u001B[39;49m\u001B[43mdumps\u001B[49m\u001B[43m(\u001B[49m\u001B[38;5;28;43mself\u001B[39;49m\u001B[38;5;241;43m.\u001B[39;49m\u001B[43mto_dict\u001B[49m\u001B[43m(\u001B[49m\u001B[43m)\u001B[49m\u001B[43m,\u001B[49m\u001B[43m \u001B[49m\u001B[38;5;28;43mcls\u001B[39;49m\u001B[38;5;241;43m=\u001B[39;49m\u001B[43mNumPyEncoder\u001B[49m\u001B[43m)\u001B[49m\n",
      "File \u001B[1;32m~\\.conda\\envs\\unap\\lib\\json\\__init__.py:238\u001B[0m, in \u001B[0;36mdumps\u001B[1;34m(obj, skipkeys, ensure_ascii, check_circular, allow_nan, cls, indent, separators, default, sort_keys, **kw)\u001B[0m\n\u001B[0;32m    232\u001B[0m \u001B[38;5;28;01mif\u001B[39;00m \u001B[38;5;28mcls\u001B[39m \u001B[38;5;129;01mis\u001B[39;00m \u001B[38;5;28;01mNone\u001B[39;00m:\n\u001B[0;32m    233\u001B[0m     \u001B[38;5;28mcls\u001B[39m \u001B[38;5;241m=\u001B[39m JSONEncoder\n\u001B[0;32m    234\u001B[0m \u001B[38;5;28;01mreturn\u001B[39;00m \u001B[38;5;28;43mcls\u001B[39;49m\u001B[43m(\u001B[49m\n\u001B[0;32m    235\u001B[0m \u001B[43m    \u001B[49m\u001B[43mskipkeys\u001B[49m\u001B[38;5;241;43m=\u001B[39;49m\u001B[43mskipkeys\u001B[49m\u001B[43m,\u001B[49m\u001B[43m \u001B[49m\u001B[43mensure_ascii\u001B[49m\u001B[38;5;241;43m=\u001B[39;49m\u001B[43mensure_ascii\u001B[49m\u001B[43m,\u001B[49m\n\u001B[0;32m    236\u001B[0m \u001B[43m    \u001B[49m\u001B[43mcheck_circular\u001B[49m\u001B[38;5;241;43m=\u001B[39;49m\u001B[43mcheck_circular\u001B[49m\u001B[43m,\u001B[49m\u001B[43m \u001B[49m\u001B[43mallow_nan\u001B[49m\u001B[38;5;241;43m=\u001B[39;49m\u001B[43mallow_nan\u001B[49m\u001B[43m,\u001B[49m\u001B[43m \u001B[49m\u001B[43mindent\u001B[49m\u001B[38;5;241;43m=\u001B[39;49m\u001B[43mindent\u001B[49m\u001B[43m,\u001B[49m\n\u001B[0;32m    237\u001B[0m \u001B[43m    \u001B[49m\u001B[43mseparators\u001B[49m\u001B[38;5;241;43m=\u001B[39;49m\u001B[43mseparators\u001B[49m\u001B[43m,\u001B[49m\u001B[43m \u001B[49m\u001B[43mdefault\u001B[49m\u001B[38;5;241;43m=\u001B[39;49m\u001B[43mdefault\u001B[49m\u001B[43m,\u001B[49m\u001B[43m \u001B[49m\u001B[43msort_keys\u001B[49m\u001B[38;5;241;43m=\u001B[39;49m\u001B[43msort_keys\u001B[49m\u001B[43m,\u001B[49m\n\u001B[1;32m--> 238\u001B[0m \u001B[43m    \u001B[49m\u001B[38;5;241;43m*\u001B[39;49m\u001B[38;5;241;43m*\u001B[39;49m\u001B[43mkw\u001B[49m\u001B[43m)\u001B[49m\u001B[38;5;241;43m.\u001B[39;49m\u001B[43mencode\u001B[49m\u001B[43m(\u001B[49m\u001B[43mobj\u001B[49m\u001B[43m)\u001B[49m\n",
      "File \u001B[1;32m~\\.conda\\envs\\unap\\lib\\json\\encoder.py:199\u001B[0m, in \u001B[0;36mJSONEncoder.encode\u001B[1;34m(self, o)\u001B[0m\n\u001B[0;32m    195\u001B[0m         \u001B[38;5;28;01mreturn\u001B[39;00m encode_basestring(o)\n\u001B[0;32m    196\u001B[0m \u001B[38;5;66;03m# This doesn't pass the iterator directly to ''.join() because the\u001B[39;00m\n\u001B[0;32m    197\u001B[0m \u001B[38;5;66;03m# exceptions aren't as detailed.  The list call should be roughly\u001B[39;00m\n\u001B[0;32m    198\u001B[0m \u001B[38;5;66;03m# equivalent to the PySequence_Fast that ''.join() would do.\u001B[39;00m\n\u001B[1;32m--> 199\u001B[0m chunks \u001B[38;5;241m=\u001B[39m \u001B[38;5;28;43mself\u001B[39;49m\u001B[38;5;241;43m.\u001B[39;49m\u001B[43miterencode\u001B[49m\u001B[43m(\u001B[49m\u001B[43mo\u001B[49m\u001B[43m,\u001B[49m\u001B[43m \u001B[49m\u001B[43m_one_shot\u001B[49m\u001B[38;5;241;43m=\u001B[39;49m\u001B[38;5;28;43;01mTrue\u001B[39;49;00m\u001B[43m)\u001B[49m\n\u001B[0;32m    200\u001B[0m \u001B[38;5;28;01mif\u001B[39;00m \u001B[38;5;129;01mnot\u001B[39;00m \u001B[38;5;28misinstance\u001B[39m(chunks, (\u001B[38;5;28mlist\u001B[39m, \u001B[38;5;28mtuple\u001B[39m)):\n\u001B[0;32m    201\u001B[0m     chunks \u001B[38;5;241m=\u001B[39m \u001B[38;5;28mlist\u001B[39m(chunks)\n",
      "File \u001B[1;32m~\\.conda\\envs\\unap\\lib\\json\\encoder.py:257\u001B[0m, in \u001B[0;36mJSONEncoder.iterencode\u001B[1;34m(self, o, _one_shot)\u001B[0m\n\u001B[0;32m    252\u001B[0m \u001B[38;5;28;01melse\u001B[39;00m:\n\u001B[0;32m    253\u001B[0m     _iterencode \u001B[38;5;241m=\u001B[39m _make_iterencode(\n\u001B[0;32m    254\u001B[0m         markers, \u001B[38;5;28mself\u001B[39m\u001B[38;5;241m.\u001B[39mdefault, _encoder, \u001B[38;5;28mself\u001B[39m\u001B[38;5;241m.\u001B[39mindent, floatstr,\n\u001B[0;32m    255\u001B[0m         \u001B[38;5;28mself\u001B[39m\u001B[38;5;241m.\u001B[39mkey_separator, \u001B[38;5;28mself\u001B[39m\u001B[38;5;241m.\u001B[39mitem_separator, \u001B[38;5;28mself\u001B[39m\u001B[38;5;241m.\u001B[39msort_keys,\n\u001B[0;32m    256\u001B[0m         \u001B[38;5;28mself\u001B[39m\u001B[38;5;241m.\u001B[39mskipkeys, _one_shot)\n\u001B[1;32m--> 257\u001B[0m \u001B[38;5;28;01mreturn\u001B[39;00m \u001B[43m_iterencode\u001B[49m\u001B[43m(\u001B[49m\u001B[43mo\u001B[49m\u001B[43m,\u001B[49m\u001B[43m \u001B[49m\u001B[38;5;241;43m0\u001B[39;49m\u001B[43m)\u001B[49m\n",
      "File \u001B[1;32m~\\.conda\\envs\\unap\\lib\\site-packages\\pyLDAvis\\utils.py:150\u001B[0m, in \u001B[0;36mNumPyEncoder.default\u001B[1;34m(self, obj)\u001B[0m\n\u001B[0;32m    148\u001B[0m \u001B[38;5;28;01mif\u001B[39;00m \u001B[38;5;28misinstance\u001B[39m(obj, np\u001B[38;5;241m.\u001B[39mfloat64) \u001B[38;5;129;01mor\u001B[39;00m \u001B[38;5;28misinstance\u001B[39m(obj, np\u001B[38;5;241m.\u001B[39mfloat32):\n\u001B[0;32m    149\u001B[0m     \u001B[38;5;28;01mreturn\u001B[39;00m \u001B[38;5;28mfloat\u001B[39m(obj)\n\u001B[1;32m--> 150\u001B[0m \u001B[38;5;28;01mreturn\u001B[39;00m \u001B[43mjson\u001B[49m\u001B[38;5;241;43m.\u001B[39;49m\u001B[43mJSONEncoder\u001B[49m\u001B[38;5;241;43m.\u001B[39;49m\u001B[43mdefault\u001B[49m\u001B[43m(\u001B[49m\u001B[38;5;28;43mself\u001B[39;49m\u001B[43m,\u001B[49m\u001B[43m \u001B[49m\u001B[43mobj\u001B[49m\u001B[43m)\u001B[49m\n",
      "File \u001B[1;32m~\\.conda\\envs\\unap\\lib\\json\\encoder.py:179\u001B[0m, in \u001B[0;36mJSONEncoder.default\u001B[1;34m(self, o)\u001B[0m\n\u001B[0;32m    160\u001B[0m \u001B[38;5;28;01mdef\u001B[39;00m \u001B[38;5;21mdefault\u001B[39m(\u001B[38;5;28mself\u001B[39m, o):\n\u001B[0;32m    161\u001B[0m \u001B[38;5;250m    \u001B[39m\u001B[38;5;124;03m\"\"\"Implement this method in a subclass such that it returns\u001B[39;00m\n\u001B[0;32m    162\u001B[0m \u001B[38;5;124;03m    a serializable object for ``o``, or calls the base implementation\u001B[39;00m\n\u001B[0;32m    163\u001B[0m \u001B[38;5;124;03m    (to raise a ``TypeError``).\u001B[39;00m\n\u001B[1;32m   (...)\u001B[0m\n\u001B[0;32m    177\u001B[0m \n\u001B[0;32m    178\u001B[0m \u001B[38;5;124;03m    \"\"\"\u001B[39;00m\n\u001B[1;32m--> 179\u001B[0m     \u001B[38;5;28;01mraise\u001B[39;00m \u001B[38;5;167;01mTypeError\u001B[39;00m(\u001B[38;5;124mf\u001B[39m\u001B[38;5;124m'\u001B[39m\u001B[38;5;124mObject of type \u001B[39m\u001B[38;5;132;01m{\u001B[39;00mo\u001B[38;5;241m.\u001B[39m\u001B[38;5;18m__class__\u001B[39m\u001B[38;5;241m.\u001B[39m\u001B[38;5;18m__name__\u001B[39m\u001B[38;5;132;01m}\u001B[39;00m\u001B[38;5;124m \u001B[39m\u001B[38;5;124m'\u001B[39m\n\u001B[0;32m    180\u001B[0m                     \u001B[38;5;124mf\u001B[39m\u001B[38;5;124m'\u001B[39m\u001B[38;5;124mis not JSON serializable\u001B[39m\u001B[38;5;124m'\u001B[39m)\n",
      "\u001B[1;31mTypeError\u001B[0m: Object of type complex is not JSON serializable"
     ]
    },
    {
     "data": {
      "text/plain": "PreparedData(topic_coordinates=                        x                   y  topics  cluster       Freq\ntopic                                                                    \n6     -0.327770+0.000000j -0.109503+0.000000j       1        1  53.356801\n2     -0.412027+0.000000j -0.130345+0.000000j       2        1  21.178136\n14    -0.365511+0.000000j -0.193913+0.000000j       3        1  12.860678\n3     -0.286977+0.000000j  0.162921+0.000000j       4        1   5.394983\n5     -0.306774+0.000000j  0.209078+0.000000j       5        1   4.945196\n11    -0.136209+0.000000j  0.216311+0.000000j       6        1   1.466707\n1      0.105941+0.000000j -0.023478+0.000000j       7        1   0.583814\n0      0.142954+0.000000j -0.014522+0.000000j       8        1   0.064360\n16     0.147661+0.000000j -0.016127+0.000000j       9        1   0.064005\n18     0.140675+0.000000j -0.012620+0.000000j      10        1   0.052995\n19     0.130115+0.000000j -0.008870+0.000000j      11        1   0.005299\n10     0.129769+0.000000j -0.008770+0.000000j      12        1   0.003068\n15     0.129769+0.000000j -0.008770+0.000000j      13        1   0.003054\n13     0.129769+0.000000j -0.008770+0.000000j      14        1   0.003039\n9      0.129769+0.000000j -0.008770+0.000000j      15        1   0.003031\n8      0.129769+0.000000j -0.008770+0.000000j      16        1   0.003016\n4      0.129769+0.000000j -0.008770+0.000000j      17        1   0.003002\n12     0.129769+0.000000j -0.008770+0.000000j      18        1   0.002987\n17     0.129769+0.000000j -0.008770+0.000000j      19        1   0.002939\n7      0.129769+0.000000j -0.008770+0.000000j      20        1   0.002890, topic_info=              Term        Freq        Total Category  logprob  loglift\n131           obra  1646.00000  1646.000000  Default  30.0000  30.0000\n207   contratación   921.00000   921.000000  Default  29.0000  29.0000\n17         control  4977.00000  4977.000000  Default  28.0000  28.0000\n64   municipalidad  2549.00000  2549.000000  Default  27.0000  27.0000\n36         entidad  2482.00000  2482.000000  Default  26.0000  26.0000\n..             ...         ...          ...      ...      ...      ...\n25       deslindir     0.00069   534.803967  Topic20  -8.7338  -3.1089\n26       diciembre     0.00069    77.502171  Topic20  -8.7338  -1.1773\n27         directo     0.00069   134.693071  Topic20  -8.7338  -1.7300\n28        disponer     0.00069  1903.275067  Topic20  -8.7338  -4.3784\n29     disposicion     0.00069    13.117813  Topic20  -8.7338   0.5990\n\n[1225 rows x 6 columns], token_table=      Topic      Freq        Term\nterm                             \n0         1  0.071172      accion\n0         2  0.632173      accion\n0         3  0.221888      accion\n0         4  0.012560      accion\n0         5  0.058612      accion\n...     ...       ...         ...\n841       9  0.592244         web\n1228      7  0.900712  yarabambar\n1229      7  0.952179   yarabambo\n2169      6  1.020244      yautar\n154       2  0.995696         zón\n\n[996 rows x 3 columns], R=30, lambda_step=0.01, plot_opts={'xlab': 'PC1', 'ylab': 'PC2'}, topic_order=[7, 3, 15, 4, 6, 12, 2, 1, 17, 19, 20, 11, 16, 14, 10, 9, 5, 13, 18, 8])"
     },
     "execution_count": 64,
     "metadata": {},
     "output_type": "execute_result"
    }
   ]
  },
  {
   "cell_type": "code",
   "source": [
    "def coherence_values_computation(dictionary, corpus, texts, limit, start=2, step=3):\n",
    "   coherence_values = []\n",
    "   model_list = []\n",
    "   from tqdm import tqdm\n",
    "   for num_topics in tqdm(range(start, limit, step)):\n",
    "      model = gensim.models.ldamodel.LdaModel(corpus=corpus,\n",
    "                                           id2word=id2word,\n",
    "                                           num_topics=num_topics,\n",
    "                                           update_every=1,\n",
    "                                           chunksize=100,\n",
    "                                           passes=10,\n",
    "                                           alpha='auto',\n",
    "                                           per_word_topics=True)\n",
    "      model_list.append(model)\n",
    "      coherencemodel = CoherenceModel(model=model, texts=data_lemmatized, dictionary=id2word, coherence='c_v')\n",
    "      coherence_values.append(coherencemodel.get_coherence())\n",
    "   return model_list, coherence_values"
   ],
   "metadata": {
    "id": "hcQTO1meD3To",
    "ExecuteTime": {
     "end_time": "2023-06-14T14:38:06.699382700Z",
     "start_time": "2023-06-14T14:38:06.558930700Z"
    }
   },
   "execution_count": 65,
   "outputs": []
  },
  {
   "cell_type": "code",
   "source": [
    "import warnings\n",
    "warnings.filterwarnings('ignore')\n",
    "limit=40; start=9; step=5;\n",
    "model_list, coherence_values = coherence_values_computation (\n",
    "   dictionary=id2word, corpus=corpus, texts=data_lemmatized,\n",
    "   start=start, limit=limit, step=step)\n",
    "\n",
    "x = range(start, limit, step)\n",
    "plt.plot(x, coherence_values)\n",
    "plt.xlabel(\"Num Topics\")\n",
    "plt.ylabel(\"Coherence score\")\n",
    "plt.legend((\"coherence_values\"), loc='best')\n",
    "plt.show()"
   ],
   "metadata": {
    "colab": {
     "base_uri": "https://localhost:8080/",
     "height": 296
    },
    "id": "REFTF8xAD3n3",
    "outputId": "dc913d1a-7ed0-449c-b154-4a0d039dab05",
    "ExecuteTime": {
     "end_time": "2023-06-14T14:42:41.135362300Z",
     "start_time": "2023-06-14T14:38:06.589284100Z"
    }
   },
   "execution_count": 66,
   "outputs": [
    {
     "name": "stderr",
     "output_type": "stream",
     "text": [
      "100%|██████████| 7/7 [04:31<00:00, 38.79s/it]\n"
     ]
    },
    {
     "data": {
      "text/plain": "<Figure size 640x480 with 1 Axes>",
      "image/png": "[encoded data removed]"
     },
     "metadata": {},
     "output_type": "display_data"
    }
   ]
  },
  {
   "cell_type": "code",
   "source": [
    "for m, cv in zip(x, coherence_values):\n",
    "   print(\"Num Topics =\", m, \" is having Coherence Value of\", round(cv, 4))"
   ],
   "metadata": {
    "colab": {
     "base_uri": "https://localhost:8080/"
    },
    "id": "dh0zEjiVHAtj",
    "outputId": "848a8942-0ed5-40c8-cc48-d3b7ec497c83",
    "ExecuteTime": {
     "end_time": "2023-06-14T14:42:41.136470900Z",
     "start_time": "2023-06-14T14:42:38.422388800Z"
    }
   },
   "execution_count": 67,
   "outputs": [
    {
     "name": "stdout",
     "output_type": "stream",
     "text": [
      "Num Topics = 9  is having Coherence Value of 0.3265\n",
      "Num Topics = 14  is having Coherence Value of 0.3435\n",
      "Num Topics = 19  is having Coherence Value of 0.3511\n",
      "Num Topics = 24  is having Coherence Value of 0.3393\n",
      "Num Topics = 29  is having Coherence Value of 0.347\n",
      "Num Topics = 34  is having Coherence Value of 0.337\n",
      "Num Topics = 39  is having Coherence Value of 0.3343\n"
     ]
    }
   ]
  },
  {
   "cell_type": "code",
   "source": [
    "optimal_model = model_list[4]\n",
    "model_topics = optimal_model.show_topics(formatted=False)\n",
    "pprint(optimal_model.print_topics(num_words=10))"
   ],
   "metadata": {
    "colab": {
     "base_uri": "https://localhost:8080/"
    },
    "id": "kxyWxKBsNhY_",
    "outputId": "c636de06-a0a2-4565-dce1-a07614fe2de8",
    "ExecuteTime": {
     "end_time": "2023-06-14T14:42:41.136470900Z",
     "start_time": "2023-06-14T14:42:38.445239300Z"
    }
   },
   "execution_count": 68,
   "outputs": [
    {
     "name": "stdout",
     "output_type": "stream",
     "text": [
      "[(4,\n",
      "  '0.000*\"cuarta\" + 0.000*\"pensionario\" + 0.000*\"vinculante\" + 0.000*\"andres\" '\n",
      "  '+ 0.000*\"bardal\" + 0.000*\"tijeral\" + 0.000*\"cabral\" + 0.000*\"tulio\" + '\n",
      "  '0.000*\"pronuncie\" + 0.000*\"rectificatorio\"'),\n",
      " (16,\n",
      "  '0.000*\"cuarta\" + 0.000*\"pensionario\" + 0.000*\"vinculante\" + 0.000*\"andres\" '\n",
      "  '+ 0.000*\"bardal\" + 0.000*\"tijeral\" + 0.000*\"cabral\" + 0.000*\"tulio\" + '\n",
      "  '0.000*\"pronuncie\" + 0.000*\"rectificatorio\"'),\n",
      " (25,\n",
      "  '0.000*\"cuarta\" + 0.000*\"pensionario\" + 0.000*\"vinculante\" + 0.000*\"andres\" '\n",
      "  '+ 0.000*\"bardal\" + 0.000*\"tijeral\" + 0.000*\"cabral\" + 0.000*\"tulio\" + '\n",
      "  '0.000*\"pronuncie\" + 0.000*\"rectificatorio\"'),\n",
      " (6,\n",
      "  '0.000*\"cuarta\" + 0.000*\"pensionario\" + 0.000*\"vinculante\" + 0.000*\"andres\" '\n",
      "  '+ 0.000*\"bardal\" + 0.000*\"tijeral\" + 0.000*\"cabral\" + 0.000*\"tulio\" + '\n",
      "  '0.000*\"pronuncie\" + 0.000*\"rectificatorio\"'),\n",
      " (17,\n",
      "  '0.000*\"cuarta\" + 0.000*\"pensionario\" + 0.000*\"vinculante\" + 0.000*\"andres\" '\n",
      "  '+ 0.000*\"bardal\" + 0.000*\"tijeral\" + 0.000*\"cabral\" + 0.000*\"tulio\" + '\n",
      "  '0.000*\"pronuncie\" + 0.000*\"rectificatorio\"'),\n",
      " (8,\n",
      "  '0.000*\"cuarta\" + 0.000*\"pensionario\" + 0.000*\"vinculante\" + 0.000*\"andres\" '\n",
      "  '+ 0.000*\"bardal\" + 0.000*\"tijeral\" + 0.000*\"cabral\" + 0.000*\"tulio\" + '\n",
      "  '0.000*\"pronuncie\" + 0.000*\"rectificatorio\"'),\n",
      " (10,\n",
      "  '0.000*\"cuarta\" + 0.000*\"pensionario\" + 0.000*\"vinculante\" + 0.000*\"andres\" '\n",
      "  '+ 0.000*\"bardal\" + 0.000*\"tijeral\" + 0.000*\"cabral\" + 0.000*\"tulio\" + '\n",
      "  '0.000*\"pronuncie\" + 0.000*\"rectificatorio\"'),\n",
      " (0,\n",
      "  '0.000*\"informe\" + 0.000*\"obra\" + 0.000*\"bardal\" + 0.000*\"vinculante\" + '\n",
      "  '0.000*\"andres\" + 0.000*\"cuarta\" + 0.000*\"tulio\" + 0.000*\"rectificatorio\" + '\n",
      "  '0.000*\"pronuncie\" + 0.000*\"pensionario\"'),\n",
      " (13,\n",
      "  '0.000*\"cuarta\" + 0.000*\"pensionario\" + 0.000*\"vinculante\" + 0.000*\"andres\" '\n",
      "  '+ 0.000*\"bardal\" + 0.000*\"tijeral\" + 0.000*\"cabral\" + 0.000*\"tulio\" + '\n",
      "  '0.000*\"pronuncie\" + 0.000*\"rectificatorio\"'),\n",
      " (7,\n",
      "  '0.000*\"control\" + 0.000*\"informe\" + 0.000*\"vinculante\" + 0.000*\"andres\" + '\n",
      "  '0.000*\"bardal\" + 0.000*\"vigo\" + 0.000*\"cuarta\" + 0.000*\"cabral\" + '\n",
      "  '0.000*\"tulio\" + 0.000*\"pronuncie\"'),\n",
      " (5,\n",
      "  '0.165*\"tributario\" + 0.071*\"cobranza\" + 0.052*\"coactivo\" + '\n",
      "  '0.049*\"impuesto_predial\" + 0.044*\"deudas_tributaria\" + 0.043*\"alegre\" + '\n",
      "  '0.027*\"prescripcion\" + 0.027*\"resolución\" + 0.017*\"arbitrios_municipal\" + '\n",
      "  '0.015*\"tributo\"'),\n",
      " (24,\n",
      "  '0.063*\"nuevo\" + 0.035*\"innecesario\" + 0.029*\"renta\" + 0.024*\"sucesivo\" + '\n",
      "  '0.022*\"tecnicos_minimos\" + 0.022*\"laura\" + 0.017*\"calculo\" + '\n",
      "  '0.015*\"resguardo\" + 0.015*\"ejecución\" + 0.013*\"saneamiento\"'),\n",
      " (14,\n",
      "  '0.052*\"arequipar\" + 0.043*\"mariano_melgar\" + 0.021*\"ventar\" + '\n",
      "  '0.020*\"proyecto\" + 0.018*\"cerro_colorado\" + 0.017*\"perfil\" + 0.016*\"rivero\" '\n",
      "  '+ 0.016*\"pago\" + 0.016*\"predio\" + 0.016*\"encontrar él\"'),\n",
      " (23,\n",
      "  '0.101*\"obra\" + 0.019*\"publica\" + 0.017*\"informe\" + 0.017*\"tecnico\" + '\n",
      "  '0.014*\"construccion\" + 0.014*\"gerente\" + 0.013*\"entidad\" + '\n",
      "  '0.012*\"mejoramiento\" + 0.012*\"adicional\" + 0.012*\"expediente\"'),\n",
      " (12,\n",
      "  '0.050*\"control\" + 0.037*\"informe\" + 0.028*\"obra\" + 0.025*\"hecho\" + '\n",
      "  '0.024*\"posterior\" + 0.019*\"entidad\" + 0.017*\"especifico\" + '\n",
      "  '0.015*\"funcionario\" + 0.015*\"residuos_solido\" + 0.015*\"distrito\"'),\n",
      " (11,\n",
      "  '0.066*\"obra\" + 0.025*\"tecnico\" + 0.024*\"expediente\" + 0.015*\"contrato\" + '\n",
      "  '0.014*\"proyecto\" + 0.012*\"proceso\" + 0.012*\"asi\" + 0.011*\"contratación\" + '\n",
      "  '0.011*\"control\" + 0.010*\"cumplir\"'),\n",
      " (21,\n",
      "  '0.028*\"control\" + 0.025*\"entidad\" + 0.022*\"informe\" + 0.020*\"municipalidad\" '\n",
      "  '+ 0.019*\"distrital\" + 0.015*\"hecho\" + 0.015*\"posterior\" + '\n",
      "  '0.014*\"funcionario\" + 0.013*\"uso\" + 0.012*\"articulo\"'),\n",
      " (3,\n",
      "  '0.029*\"servicio\" + 0.028*\"disponer\" + 0.023*\"control\" + 0.019*\"municipal\" + '\n",
      "  '0.018*\"subgerencia\" + 0.015*\"contratación\" + 0.014*\"gerencia\" + '\n",
      "  '0.013*\"municipalidad\" + 0.013*\"logistico\" + 0.011*\"administrativo\"'),\n",
      " (28,\n",
      "  '0.039*\"informe\" + 0.023*\"funcionario\" + 0.023*\"control\" + 0.022*\"disponer\" '\n",
      "  '+ 0.020*\"entidad\" + 0.015*\"municipalidad\" + 0.014*\"posterior\" + 0.013*\"adm\" '\n",
      "  '+ 0.013*\"servicio\" + 0.013*\"distrital\"'),\n",
      " (9,\n",
      "  '0.056*\"control\" + 0.042*\"informe\" + 0.028*\"posterior\" + '\n",
      "  '0.028*\"municipalidad\" + 0.024*\"hecho\" + 0.023*\"distrital\" + '\n",
      "  '0.020*\"servicio\" + 0.017*\"entidad\" + 0.016*\"especifico\" + 0.015*\"publico\"')]\n"
     ]
    }
   ]
  },
  {
   "cell_type": "code",
   "source": [
    "def dominant_topics(ldamodel=lda_model, corpus=corpus, texts=data):\n",
    "   sent_topics_df = pd.DataFrame(columns=['Dominant_Topic', 'Perc_Contribution', 'Topic_Keywords'])\n",
    "   for i, row in enumerate(ldamodel[corpus]):\n",
    "      row = sorted(row[0], key=lambda x: (x[1]), reverse=True)\n",
    "      for j, (topic_num, prop_topic) in enumerate(row):\n",
    "         if j == 0: # => dominant topic\n",
    "            wp = ldamodel.show_topic(topic_num)\n",
    "            topic_keywords = \", \".join([word for word, prop in wp])\n",
    "            sent_topics_df.loc[i] = [int(topic_num), round(prop_topic, 4), topic_keywords]\n",
    "            break\n",
    "   contents = pd.Series(texts)\n",
    "   sent_topics_df = pd.concat([sent_topics_df, contents], axis=1)\n",
    "   return sent_topics_df"
   ],
   "metadata": {
    "id": "SRXOjsRbNh1T",
    "ExecuteTime": {
     "end_time": "2023-06-14T14:48:17.529617600Z",
     "start_time": "2023-06-14T14:48:17.437759900Z"
    }
   },
   "execution_count": 73,
   "outputs": []
  },
  {
   "cell_type": "code",
   "source": [
    "df_topic_sents_keywords = dominant_topics(\n",
    "   ldamodel=optimal_model, corpus=corpus, texts=data\n",
    ")"
   ],
   "metadata": {
    "id": "Mot5wpZQOARH",
    "ExecuteTime": {
     "end_time": "2023-06-14T14:48:30.593788600Z",
     "start_time": "2023-06-14T14:48:18.962581100Z"
    }
   },
   "execution_count": 74,
   "outputs": []
  },
  {
   "cell_type": "code",
   "source": [
    "df_topic_sents_keywords['Dominant_Topic'].hist()"
   ],
   "metadata": {
    "colab": {
     "base_uri": "https://localhost:8080/",
     "height": 282
    },
    "id": "OIfnBVGnUDDU",
    "outputId": "173425f2-14b5-4414-864a-c3e74e533c9e",
    "ExecuteTime": {
     "end_time": "2023-06-14T14:48:34.014378400Z",
     "start_time": "2023-06-14T14:48:33.541860500Z"
    }
   },
   "execution_count": 75,
   "outputs": [
    {
     "data": {
      "text/plain": "<Axes: >"
     },
     "execution_count": 75,
     "metadata": {},
     "output_type": "execute_result"
    },
    {
     "data": {
      "text/plain": "<Figure size 640x480 with 1 Axes>",
      "image/png": "[encoded data removed]"
     },
     "metadata": {},
     "output_type": "display_data"
    }
   ]
  },
  {
   "cell_type": "code",
   "source": [
    "sent_topics_sorteddf = pd.DataFrame()\n",
    "sent_topics_outdf_grpd = df_topic_sents_keywords.groupby('Dominant_Topic')\n",
    "for i, grp in sent_topics_outdf_grpd:\n",
    "   sent_topics_sorteddf = pd.concat([sent_topics_sorteddf, grp.sort_values(['Perc_Contribution'], ascending=[0]).head(1)], axis=0)\n",
    "sent_topics_sorteddf.reset_index(drop=True, inplace=True)\n",
    "sent_topics_sorteddf.columns = [\n",
    "   'Topic_Number', \"Contribution_Perc\", \"Keywords\", \"Text\"\n",
    "]\n",
    "sent_topics_sorteddf.head()"
   ],
   "metadata": {
    "colab": {
     "base_uri": "https://localhost:8080/",
     "height": 206
    },
    "id": "-5vSYUTQUbBh",
    "outputId": "3a6a8f76-d9d1-44a7-84c9-0f7cffe5cbb3",
    "ExecuteTime": {
     "end_time": "2023-06-14T14:48:36.010459600Z",
     "start_time": "2023-06-14T14:48:35.936867300Z"
    }
   },
   "execution_count": 76,
   "outputs": [
    {
     "data": {
      "text/plain": "   Topic_Number  Contribution_Perc  \\\n0             3             0.5420   \n1             9             0.9936   \n2            11             0.5881   \n3            12             0.9860   \n4            21             0.6391   \n\n                                            Keywords  \\\n0  servicio, disponer, control, municipal, subger...   \n1  control, informe, posterior, municipalidad, he...   \n2  obra, tecnico, expediente, contrato, proyecto,...   \n3  control, informe, obra, hecho, posterior, enti...   \n4  control, entidad, informe, municipalidad, dist...   \n\n                                                Text  \n0  Ficha Resumen - Informe de Control Posterior I...  \n1  Ficha Resumen - Informe de Control Posterior I...  \n2  Ficha Resumen - Informes de Control Posterior ...  \n3  Ficha Resumen - Informe de Control Posterior I...  \n4  Ficha Resumen - Informe de Control Posterior I...  ",
      "text/html": "<div>\n<style scoped>\n    .dataframe tbody tr th:only-of-type {\n        vertical-align: middle;\n    }\n\n    .dataframe tbody tr th {\n        vertical-align: top;\n    }\n\n    .dataframe thead th {\n        text-align: right;\n    }\n</style>\n<table border=\"1\" class=\"dataframe\">\n  <thead>\n    <tr style=\"text-align: right;\">\n      <th></th>\n      <th>Topic_Number</th>\n      <th>Contribution_Perc</th>\n      <th>Keywords</th>\n      <th>Text</th>\n    </tr>\n  </thead>\n  <tbody>\n    <tr>\n      <th>0</th>\n      <td>3</td>\n      <td>0.5420</td>\n      <td>servicio, disponer, control, municipal, subger...</td>\n      <td>Ficha Resumen - Informe de Control Posterior I...</td>\n    </tr>\n    <tr>\n      <th>1</th>\n      <td>9</td>\n      <td>0.9936</td>\n      <td>control, informe, posterior, municipalidad, he...</td>\n      <td>Ficha Resumen - Informe de Control Posterior I...</td>\n    </tr>\n    <tr>\n      <th>2</th>\n      <td>11</td>\n      <td>0.5881</td>\n      <td>obra, tecnico, expediente, contrato, proyecto,...</td>\n      <td>Ficha Resumen - Informes de Control Posterior ...</td>\n    </tr>\n    <tr>\n      <th>3</th>\n      <td>12</td>\n      <td>0.9860</td>\n      <td>control, informe, obra, hecho, posterior, enti...</td>\n      <td>Ficha Resumen - Informe de Control Posterior I...</td>\n    </tr>\n    <tr>\n      <th>4</th>\n      <td>21</td>\n      <td>0.6391</td>\n      <td>control, entidad, informe, municipalidad, dist...</td>\n      <td>Ficha Resumen - Informe de Control Posterior I...</td>\n    </tr>\n  </tbody>\n</table>\n</div>"
     },
     "execution_count": 76,
     "metadata": {},
     "output_type": "execute_result"
    }
   ]
  },
  {
   "cell_type": "code",
   "source": [
    "topic_counts = df_topic_sents_keywords['Dominant_Topic'].value_counts()\n",
    "topic_contribution = round(topic_counts/topic_counts.sum(), 4)\n",
    "topic_num_keywords = df_topic_sents_keywords[['Dominant_Topic', 'Topic_Keywords']].drop_duplicates().set_index('Dominant_Topic')['Topic_Keywords']\n",
    "df_dominant_topics = pd.concat([topic_num_keywords, topic_counts, topic_contribution], axis=1).reset_index()\n",
    "df_dominant_topics.columns = [\n",
    "   'Dominant-Topic', 'Topic-Keywords', 'Num_Documents', 'Perc_Documents'\n",
    "]\n",
    "df_dominant_topics"
   ],
   "metadata": {
    "colab": {
     "base_uri": "https://localhost:8080/",
     "height": 331
    },
    "id": "QaSjZFp0Ubax",
    "outputId": "90b4a549-c1da-476d-fc56-d9dde5e5fc8e",
    "ExecuteTime": {
     "end_time": "2023-06-14T14:48:38.925045Z",
     "start_time": "2023-06-14T14:48:38.867719600Z"
    }
   },
   "execution_count": 77,
   "outputs": [
    {
     "data": {
      "text/plain": "   Dominant-Topic                                     Topic-Keywords  \\\n0               9  control, informe, posterior, municipalidad, he...   \n1              12  control, informe, obra, hecho, posterior, enti...   \n2              28  informe, funcionario, control, disponer, entid...   \n3              21  control, entidad, informe, municipalidad, dist...   \n4               3  servicio, disponer, control, municipal, subger...   \n5              23  obra, publica, informe, tecnico, construccion,...   \n6              11  obra, tecnico, expediente, contrato, proyecto,...   \n\n   Num_Documents  Perc_Documents  \n0            199          0.3692  \n1             35          0.0649  \n2            222          0.4119  \n3             14          0.0260  \n4             42          0.0779  \n5              9          0.0167  \n6             18          0.0334  ",
      "text/html": "<div>\n<style scoped>\n    .dataframe tbody tr th:only-of-type {\n        vertical-align: middle;\n    }\n\n    .dataframe tbody tr th {\n        vertical-align: top;\n    }\n\n    .dataframe thead th {\n        text-align: right;\n    }\n</style>\n<table border=\"1\" class=\"dataframe\">\n  <thead>\n    <tr style=\"text-align: right;\">\n      <th></th>\n      <th>Dominant-Topic</th>\n      <th>Topic-Keywords</th>\n      <th>Num_Documents</th>\n      <th>Perc_Documents</th>\n    </tr>\n  </thead>\n  <tbody>\n    <tr>\n      <th>0</th>\n      <td>9</td>\n      <td>control, informe, posterior, municipalidad, he...</td>\n      <td>199</td>\n      <td>0.3692</td>\n    </tr>\n    <tr>\n      <th>1</th>\n      <td>12</td>\n      <td>control, informe, obra, hecho, posterior, enti...</td>\n      <td>35</td>\n      <td>0.0649</td>\n    </tr>\n    <tr>\n      <th>2</th>\n      <td>28</td>\n      <td>informe, funcionario, control, disponer, entid...</td>\n      <td>222</td>\n      <td>0.4119</td>\n    </tr>\n    <tr>\n      <th>3</th>\n      <td>21</td>\n      <td>control, entidad, informe, municipalidad, dist...</td>\n      <td>14</td>\n      <td>0.0260</td>\n    </tr>\n    <tr>\n      <th>4</th>\n      <td>3</td>\n      <td>servicio, disponer, control, municipal, subger...</td>\n      <td>42</td>\n      <td>0.0779</td>\n    </tr>\n    <tr>\n      <th>5</th>\n      <td>23</td>\n      <td>obra, publica, informe, tecnico, construccion,...</td>\n      <td>9</td>\n      <td>0.0167</td>\n    </tr>\n    <tr>\n      <th>6</th>\n      <td>11</td>\n      <td>obra, tecnico, expediente, contrato, proyecto,...</td>\n      <td>18</td>\n      <td>0.0334</td>\n    </tr>\n  </tbody>\n</table>\n</div>"
     },
     "execution_count": 77,
     "metadata": {},
     "output_type": "execute_result"
    }
   ]
  },
  {
   "cell_type": "code",
   "source": [
    "vis = gensimvis.prepare(optimal_model, corpus, id2word)"
   ],
   "metadata": {
    "colab": {
     "base_uri": "https://localhost:8080/",
     "height": 861
    },
    "id": "F2J_YvQLYOZ1",
    "outputId": "0b9a77df-2a0c-4869-bf0f-2ace2a22c873",
    "ExecuteTime": {
     "end_time": "2023-06-14T14:54:09.185394300Z",
     "start_time": "2023-06-14T14:54:04.475931900Z"
    }
   },
   "execution_count": 86,
   "outputs": []
  },
  {
   "cell_type": "code",
   "execution_count": 87,
   "outputs": [
    {
     "ename": "TypeError",
     "evalue": "Object of type complex is not JSON serializable",
     "output_type": "error",
     "traceback": [
      "\u001B[1;31m---------------------------------------------------------------------------\u001B[0m",
      "\u001B[1;31mTypeError\u001B[0m                                 Traceback (most recent call last)",
      "File \u001B[1;32m~\\.conda\\envs\\unap\\lib\\site-packages\\IPython\\core\\formatters.py:340\u001B[0m, in \u001B[0;36mBaseFormatter.__call__\u001B[1;34m(self, obj)\u001B[0m\n\u001B[0;32m    338\u001B[0m     \u001B[38;5;28;01mpass\u001B[39;00m\n\u001B[0;32m    339\u001B[0m \u001B[38;5;28;01melse\u001B[39;00m:\n\u001B[1;32m--> 340\u001B[0m     \u001B[38;5;28;01mreturn\u001B[39;00m \u001B[43mprinter\u001B[49m\u001B[43m(\u001B[49m\u001B[43mobj\u001B[49m\u001B[43m)\u001B[49m\n\u001B[0;32m    341\u001B[0m \u001B[38;5;66;03m# Finally look for special method names\u001B[39;00m\n\u001B[0;32m    342\u001B[0m method \u001B[38;5;241m=\u001B[39m get_real_method(obj, \u001B[38;5;28mself\u001B[39m\u001B[38;5;241m.\u001B[39mprint_method)\n",
      "File \u001B[1;32m~\\.conda\\envs\\unap\\lib\\site-packages\\pyLDAvis\\_display.py:308\u001B[0m, in \u001B[0;36menable_notebook.<locals>.<lambda>\u001B[1;34m(data, kwds)\u001B[0m\n\u001B[0;32m    305\u001B[0m ip \u001B[38;5;241m=\u001B[39m get_ipython()\n\u001B[0;32m    306\u001B[0m formatter \u001B[38;5;241m=\u001B[39m ip\u001B[38;5;241m.\u001B[39mdisplay_formatter\u001B[38;5;241m.\u001B[39mformatters[\u001B[38;5;124m'\u001B[39m\u001B[38;5;124mtext/html\u001B[39m\u001B[38;5;124m'\u001B[39m]\n\u001B[0;32m    307\u001B[0m formatter\u001B[38;5;241m.\u001B[39mfor_type(PreparedData,\n\u001B[1;32m--> 308\u001B[0m                    \u001B[38;5;28;01mlambda\u001B[39;00m data, kwds\u001B[38;5;241m=\u001B[39mkwargs: prepared_data_to_html(data, \u001B[38;5;241m*\u001B[39m\u001B[38;5;241m*\u001B[39mkwds))\n",
      "File \u001B[1;32m~\\.conda\\envs\\unap\\lib\\site-packages\\pyLDAvis\\_display.py:177\u001B[0m, in \u001B[0;36mprepared_data_to_html\u001B[1;34m(data, d3_url, ldavis_url, ldavis_css_url, template_type, visid, use_http)\u001B[0m\n\u001B[0;32m    170\u001B[0m \u001B[38;5;28;01melif\u001B[39;00m re\u001B[38;5;241m.\u001B[39msearch(\u001B[38;5;124mr\u001B[39m\u001B[38;5;124m'\u001B[39m\u001B[38;5;124m\\\u001B[39m\u001B[38;5;124ms\u001B[39m\u001B[38;5;124m'\u001B[39m, visid):\n\u001B[0;32m    171\u001B[0m     \u001B[38;5;28;01mraise\u001B[39;00m \u001B[38;5;167;01mValueError\u001B[39;00m(\u001B[38;5;124m\"\u001B[39m\u001B[38;5;124mvisid must not contain spaces\u001B[39m\u001B[38;5;124m\"\u001B[39m)\n\u001B[0;32m    173\u001B[0m \u001B[38;5;28;01mreturn\u001B[39;00m template\u001B[38;5;241m.\u001B[39mrender(visid\u001B[38;5;241m=\u001B[39mjson\u001B[38;5;241m.\u001B[39mdumps(visid),\n\u001B[0;32m    174\u001B[0m                        visid_raw\u001B[38;5;241m=\u001B[39mvisid,\n\u001B[0;32m    175\u001B[0m                        d3_url\u001B[38;5;241m=\u001B[39md3_url,\n\u001B[0;32m    176\u001B[0m                        ldavis_url\u001B[38;5;241m=\u001B[39mldavis_url,\n\u001B[1;32m--> 177\u001B[0m                        vis_json\u001B[38;5;241m=\u001B[39m\u001B[43mdata\u001B[49m\u001B[38;5;241;43m.\u001B[39;49m\u001B[43mto_json\u001B[49m\u001B[43m(\u001B[49m\u001B[43m)\u001B[49m,\n\u001B[0;32m    178\u001B[0m                        ldavis_css_url\u001B[38;5;241m=\u001B[39mldavis_css_url)\n",
      "File \u001B[1;32m~\\.conda\\envs\\unap\\lib\\site-packages\\pyLDAvis\\_prepare.py:464\u001B[0m, in \u001B[0;36mPreparedData.to_json\u001B[1;34m(self)\u001B[0m\n\u001B[0;32m    463\u001B[0m \u001B[38;5;28;01mdef\u001B[39;00m \u001B[38;5;21mto_json\u001B[39m(\u001B[38;5;28mself\u001B[39m):\n\u001B[1;32m--> 464\u001B[0m     \u001B[38;5;28;01mreturn\u001B[39;00m \u001B[43mjson\u001B[49m\u001B[38;5;241;43m.\u001B[39;49m\u001B[43mdumps\u001B[49m\u001B[43m(\u001B[49m\u001B[38;5;28;43mself\u001B[39;49m\u001B[38;5;241;43m.\u001B[39;49m\u001B[43mto_dict\u001B[49m\u001B[43m(\u001B[49m\u001B[43m)\u001B[49m\u001B[43m,\u001B[49m\u001B[43m \u001B[49m\u001B[38;5;28;43mcls\u001B[39;49m\u001B[38;5;241;43m=\u001B[39;49m\u001B[43mNumPyEncoder\u001B[49m\u001B[43m)\u001B[49m\n",
      "File \u001B[1;32m~\\.conda\\envs\\unap\\lib\\json\\__init__.py:238\u001B[0m, in \u001B[0;36mdumps\u001B[1;34m(obj, skipkeys, ensure_ascii, check_circular, allow_nan, cls, indent, separators, default, sort_keys, **kw)\u001B[0m\n\u001B[0;32m    232\u001B[0m \u001B[38;5;28;01mif\u001B[39;00m \u001B[38;5;28mcls\u001B[39m \u001B[38;5;129;01mis\u001B[39;00m \u001B[38;5;28;01mNone\u001B[39;00m:\n\u001B[0;32m    233\u001B[0m     \u001B[38;5;28mcls\u001B[39m \u001B[38;5;241m=\u001B[39m JSONEncoder\n\u001B[0;32m    234\u001B[0m \u001B[38;5;28;01mreturn\u001B[39;00m \u001B[38;5;28;43mcls\u001B[39;49m\u001B[43m(\u001B[49m\n\u001B[0;32m    235\u001B[0m \u001B[43m    \u001B[49m\u001B[43mskipkeys\u001B[49m\u001B[38;5;241;43m=\u001B[39;49m\u001B[43mskipkeys\u001B[49m\u001B[43m,\u001B[49m\u001B[43m \u001B[49m\u001B[43mensure_ascii\u001B[49m\u001B[38;5;241;43m=\u001B[39;49m\u001B[43mensure_ascii\u001B[49m\u001B[43m,\u001B[49m\n\u001B[0;32m    236\u001B[0m \u001B[43m    \u001B[49m\u001B[43mcheck_circular\u001B[49m\u001B[38;5;241;43m=\u001B[39;49m\u001B[43mcheck_circular\u001B[49m\u001B[43m,\u001B[49m\u001B[43m \u001B[49m\u001B[43mallow_nan\u001B[49m\u001B[38;5;241;43m=\u001B[39;49m\u001B[43mallow_nan\u001B[49m\u001B[43m,\u001B[49m\u001B[43m \u001B[49m\u001B[43mindent\u001B[49m\u001B[38;5;241;43m=\u001B[39;49m\u001B[43mindent\u001B[49m\u001B[43m,\u001B[49m\n\u001B[0;32m    237\u001B[0m \u001B[43m    \u001B[49m\u001B[43mseparators\u001B[49m\u001B[38;5;241;43m=\u001B[39;49m\u001B[43mseparators\u001B[49m\u001B[43m,\u001B[49m\u001B[43m \u001B[49m\u001B[43mdefault\u001B[49m\u001B[38;5;241;43m=\u001B[39;49m\u001B[43mdefault\u001B[49m\u001B[43m,\u001B[49m\u001B[43m \u001B[49m\u001B[43msort_keys\u001B[49m\u001B[38;5;241;43m=\u001B[39;49m\u001B[43msort_keys\u001B[49m\u001B[43m,\u001B[49m\n\u001B[1;32m--> 238\u001B[0m \u001B[43m    \u001B[49m\u001B[38;5;241;43m*\u001B[39;49m\u001B[38;5;241;43m*\u001B[39;49m\u001B[43mkw\u001B[49m\u001B[43m)\u001B[49m\u001B[38;5;241;43m.\u001B[39;49m\u001B[43mencode\u001B[49m\u001B[43m(\u001B[49m\u001B[43mobj\u001B[49m\u001B[43m)\u001B[49m\n",
      "File \u001B[1;32m~\\.conda\\envs\\unap\\lib\\json\\encoder.py:199\u001B[0m, in \u001B[0;36mJSONEncoder.encode\u001B[1;34m(self, o)\u001B[0m\n\u001B[0;32m    195\u001B[0m         \u001B[38;5;28;01mreturn\u001B[39;00m encode_basestring(o)\n\u001B[0;32m    196\u001B[0m \u001B[38;5;66;03m# This doesn't pass the iterator directly to ''.join() because the\u001B[39;00m\n\u001B[0;32m    197\u001B[0m \u001B[38;5;66;03m# exceptions aren't as detailed.  The list call should be roughly\u001B[39;00m\n\u001B[0;32m    198\u001B[0m \u001B[38;5;66;03m# equivalent to the PySequence_Fast that ''.join() would do.\u001B[39;00m\n\u001B[1;32m--> 199\u001B[0m chunks \u001B[38;5;241m=\u001B[39m \u001B[38;5;28;43mself\u001B[39;49m\u001B[38;5;241;43m.\u001B[39;49m\u001B[43miterencode\u001B[49m\u001B[43m(\u001B[49m\u001B[43mo\u001B[49m\u001B[43m,\u001B[49m\u001B[43m \u001B[49m\u001B[43m_one_shot\u001B[49m\u001B[38;5;241;43m=\u001B[39;49m\u001B[38;5;28;43;01mTrue\u001B[39;49;00m\u001B[43m)\u001B[49m\n\u001B[0;32m    200\u001B[0m \u001B[38;5;28;01mif\u001B[39;00m \u001B[38;5;129;01mnot\u001B[39;00m \u001B[38;5;28misinstance\u001B[39m(chunks, (\u001B[38;5;28mlist\u001B[39m, \u001B[38;5;28mtuple\u001B[39m)):\n\u001B[0;32m    201\u001B[0m     chunks \u001B[38;5;241m=\u001B[39m \u001B[38;5;28mlist\u001B[39m(chunks)\n",
      "File \u001B[1;32m~\\.conda\\envs\\unap\\lib\\json\\encoder.py:257\u001B[0m, in \u001B[0;36mJSONEncoder.iterencode\u001B[1;34m(self, o, _one_shot)\u001B[0m\n\u001B[0;32m    252\u001B[0m \u001B[38;5;28;01melse\u001B[39;00m:\n\u001B[0;32m    253\u001B[0m     _iterencode \u001B[38;5;241m=\u001B[39m _make_iterencode(\n\u001B[0;32m    254\u001B[0m         markers, \u001B[38;5;28mself\u001B[39m\u001B[38;5;241m.\u001B[39mdefault, _encoder, \u001B[38;5;28mself\u001B[39m\u001B[38;5;241m.\u001B[39mindent, floatstr,\n\u001B[0;32m    255\u001B[0m         \u001B[38;5;28mself\u001B[39m\u001B[38;5;241m.\u001B[39mkey_separator, \u001B[38;5;28mself\u001B[39m\u001B[38;5;241m.\u001B[39mitem_separator, \u001B[38;5;28mself\u001B[39m\u001B[38;5;241m.\u001B[39msort_keys,\n\u001B[0;32m    256\u001B[0m         \u001B[38;5;28mself\u001B[39m\u001B[38;5;241m.\u001B[39mskipkeys, _one_shot)\n\u001B[1;32m--> 257\u001B[0m \u001B[38;5;28;01mreturn\u001B[39;00m \u001B[43m_iterencode\u001B[49m\u001B[43m(\u001B[49m\u001B[43mo\u001B[49m\u001B[43m,\u001B[49m\u001B[43m \u001B[49m\u001B[38;5;241;43m0\u001B[39;49m\u001B[43m)\u001B[49m\n",
      "File \u001B[1;32m~\\.conda\\envs\\unap\\lib\\site-packages\\pyLDAvis\\utils.py:150\u001B[0m, in \u001B[0;36mNumPyEncoder.default\u001B[1;34m(self, obj)\u001B[0m\n\u001B[0;32m    148\u001B[0m \u001B[38;5;28;01mif\u001B[39;00m \u001B[38;5;28misinstance\u001B[39m(obj, np\u001B[38;5;241m.\u001B[39mfloat64) \u001B[38;5;129;01mor\u001B[39;00m \u001B[38;5;28misinstance\u001B[39m(obj, np\u001B[38;5;241m.\u001B[39mfloat32):\n\u001B[0;32m    149\u001B[0m     \u001B[38;5;28;01mreturn\u001B[39;00m \u001B[38;5;28mfloat\u001B[39m(obj)\n\u001B[1;32m--> 150\u001B[0m \u001B[38;5;28;01mreturn\u001B[39;00m \u001B[43mjson\u001B[49m\u001B[38;5;241;43m.\u001B[39;49m\u001B[43mJSONEncoder\u001B[49m\u001B[38;5;241;43m.\u001B[39;49m\u001B[43mdefault\u001B[49m\u001B[43m(\u001B[49m\u001B[38;5;28;43mself\u001B[39;49m\u001B[43m,\u001B[49m\u001B[43m \u001B[49m\u001B[43mobj\u001B[49m\u001B[43m)\u001B[49m\n",
      "File \u001B[1;32m~\\.conda\\envs\\unap\\lib\\json\\encoder.py:179\u001B[0m, in \u001B[0;36mJSONEncoder.default\u001B[1;34m(self, o)\u001B[0m\n\u001B[0;32m    160\u001B[0m \u001B[38;5;28;01mdef\u001B[39;00m \u001B[38;5;21mdefault\u001B[39m(\u001B[38;5;28mself\u001B[39m, o):\n\u001B[0;32m    161\u001B[0m \u001B[38;5;250m    \u001B[39m\u001B[38;5;124;03m\"\"\"Implement this method in a subclass such that it returns\u001B[39;00m\n\u001B[0;32m    162\u001B[0m \u001B[38;5;124;03m    a serializable object for ``o``, or calls the base implementation\u001B[39;00m\n\u001B[0;32m    163\u001B[0m \u001B[38;5;124;03m    (to raise a ``TypeError``).\u001B[39;00m\n\u001B[1;32m   (...)\u001B[0m\n\u001B[0;32m    177\u001B[0m \n\u001B[0;32m    178\u001B[0m \u001B[38;5;124;03m    \"\"\"\u001B[39;00m\n\u001B[1;32m--> 179\u001B[0m     \u001B[38;5;28;01mraise\u001B[39;00m \u001B[38;5;167;01mTypeError\u001B[39;00m(\u001B[38;5;124mf\u001B[39m\u001B[38;5;124m'\u001B[39m\u001B[38;5;124mObject of type \u001B[39m\u001B[38;5;132;01m{\u001B[39;00mo\u001B[38;5;241m.\u001B[39m\u001B[38;5;18m__class__\u001B[39m\u001B[38;5;241m.\u001B[39m\u001B[38;5;18m__name__\u001B[39m\u001B[38;5;132;01m}\u001B[39;00m\u001B[38;5;124m \u001B[39m\u001B[38;5;124m'\u001B[39m\n\u001B[0;32m    180\u001B[0m                     \u001B[38;5;124mf\u001B[39m\u001B[38;5;124m'\u001B[39m\u001B[38;5;124mis not JSON serializable\u001B[39m\u001B[38;5;124m'\u001B[39m)\n",
      "\u001B[1;31mTypeError\u001B[0m: Object of type complex is not JSON serializable"
     ]
    },
    {
     "data": {
      "text/plain": "PreparedData(topic_coordinates=                        x                   y  topics  cluster       Freq\ntopic                                                                    \n9     -0.408211+0.000000j  0.104057+0.000000j       1        1  31.886162\n28    -0.401412+0.000000j  0.094543+0.000000j       2        1  30.585022\n3     -0.344209+0.000000j  0.097144+0.000000j       3        1  10.815185\n11    -0.338085+0.000000j -0.191430+0.000000j       4        1   8.654846\n21    -0.343082+0.000000j  0.125247+0.000000j       5        1   7.032661\n12    -0.410787+0.000000j -0.035168+0.000000j       6        1   6.527101\n23    -0.298653+0.000000j -0.235260+0.000000j       7        1   3.207123\n14     0.085039+0.000000j -0.077382+0.000000j       8        1   0.374919\n5      0.122131+0.000000j  0.014490+0.000000j       9        1   0.259702\n15     0.114327+0.000000j  0.008877+0.000000j      10        1   0.256646\n19     0.122272+0.000000j  0.004280+0.000000j      11        1   0.152197\n24     0.130989+0.000000j  0.011866+0.000000j      12        1   0.141901\n27     0.121860+0.000000j  0.006447+0.000000j      13        1   0.031780\n18     0.119866+0.000000j  0.002769+0.000000j      14        1   0.019680\n22     0.117016+0.000000j  0.005099+0.000000j      15        1   0.009383\n20     0.115546+0.000000j  0.004710+0.000000j      16        1   0.006021\n2      0.115030+0.000000j  0.004593+0.000000j      17        1   0.003263\n26     0.115030+0.000000j  0.004593+0.000000j      18        1   0.003177\n1      0.115030+0.000000j  0.004593+0.000000j      19        1   0.003114\n7      0.115030+0.000000j  0.004593+0.000000j      20        1   0.003103\n13     0.115030+0.000000j  0.004593+0.000000j      21        1   0.003098\n10     0.115030+0.000000j  0.004593+0.000000j      22        1   0.003055\n0      0.115030+0.000000j  0.004593+0.000000j      23        1   0.003047\n25     0.115030+0.000000j  0.004593+0.000000j      24        1   0.002994\n6      0.115030+0.000000j  0.004593+0.000000j      25        1   0.002994\n8      0.115030+0.000000j  0.004593+0.000000j      26        1   0.002985\n17     0.115030+0.000000j  0.004593+0.000000j      27        1   0.002978\n16     0.115030+0.000000j  0.004593+0.000000j      28        1   0.002954\n4      0.115030+0.000000j  0.004593+0.000000j      29        1   0.002911, topic_info=            Term         Freq        Total Category  logprob  loglift\n131         obra  1631.000000  1631.000000  Default  30.0000  30.0000\n17       control  5000.000000  5000.000000  Default  29.0000  29.0000\n49       informe  4614.000000  4614.000000  Default  28.0000  28.0000\n37    especifico   946.000000   946.000000  Default  27.0000  27.0000\n46         hecho  1988.000000  1988.000000  Default  26.0000  26.0000\n..           ...          ...          ...      ...      ...      ...\n25     deslindir     0.000695   535.441121  Topic29  -8.7338  -3.1101\n26     diciembre     0.000695    76.271767  Topic29  -8.7338  -1.1613\n27       directo     0.000695   136.361067  Topic29  -8.7338  -1.7423\n28      disponer     0.000695  1923.134782  Topic29  -8.7338  -4.3887\n29   disposicion     0.000695    12.946963  Topic29  -8.7338   0.6121\n\n[1765 rows x 6 columns], token_table=      Topic      Freq     Term\nterm                          \n0         1  0.724101   accion\n0         5  0.057928   accion\n0         6  0.169647   accion\n0         7  0.045515   accion\n1         1  0.407435   acción\n...     ...       ...      ...\n1932     14  0.544295    vitor\n193       5  0.998238  zevallo\n153       1  0.241317     zona\n153       4  0.198731     zona\n153       6  0.567804     zona\n\n[1335 rows x 3 columns], R=30, lambda_step=0.01, plot_opts={'xlab': 'PC1', 'ylab': 'PC2'}, topic_order=[10, 29, 4, 12, 22, 13, 24, 15, 6, 16, 20, 25, 28, 19, 23, 21, 3, 27, 2, 8, 14, 11, 1, 26, 7, 9, 18, 17, 5])"
     },
     "execution_count": 87,
     "metadata": {},
     "output_type": "execute_result"
    }
   ],
   "source": [
    "vis"
   ],
   "metadata": {
    "collapsed": false,
    "ExecuteTime": {
     "end_time": "2023-06-14T14:54:09.368806500Z",
     "start_time": "2023-06-14T14:54:09.223614300Z"
    }
   }
  },
  {
   "cell_type": "markdown",
   "source": [
    "# Distribución de tópicos de documentos\n",
    "Usamos el método get_document_topics que realiza la inferencia de la distribución de topicos de un documento. Devuelve una lista de tupas (topic_id, probability)"
   ],
   "metadata": {
    "id": "TJcgPSAKKkA6"
   }
  },
  {
   "cell_type": "code",
   "source": [
    "# Get document topics\n",
    "all_topics = optimal_model.get_document_topics(corpus, minimum_probability=0)\n",
    "all_topics[0]"
   ],
   "metadata": {
    "colab": {
     "base_uri": "https://localhost:8080/"
    },
    "id": "arV2rXtIKi1i",
    "outputId": "fe2fa7d9-c231-46f3-94db-2f31b4c681bd",
    "ExecuteTime": {
     "end_time": "2023-06-14T14:53:19.761241Z",
     "start_time": "2023-06-14T14:53:19.740640700Z"
    }
   },
   "execution_count": 85,
   "outputs": [
    {
     "data": {
      "text/plain": "[(0, 4.0145787e-05),\n (1, 4.103315e-05),\n (2, 4.29945e-05),\n (3, 0.00089679135),\n (4, 3.8361402e-05),\n (5, 0.005328634),\n (6, 3.944864e-05),\n (7, 4.0885378e-05),\n (8, 3.933354e-05),\n (9, 0.7959901),\n (10, 4.0251412e-05),\n (11, 0.0006297868),\n (12, 0.00045685665),\n (13, 4.0817224e-05),\n (14, 0.16123353),\n (15, 7.786244e-05),\n (16, 3.892135e-05),\n (17, 3.924803e-05),\n (18, 4.3393906e-05),\n (19, 8.342089e-05),\n (20, 4.1281513e-05),\n (21, 0.015443392),\n (22, 4.3080836e-05),\n (23, 0.0003589753),\n (24, 0.00010794053),\n (25, 3.9448973e-05),\n (26, 4.186826e-05),\n (27, 4.933318e-05),\n (28, 0.018692803)]"
     },
     "execution_count": 85,
     "metadata": {},
     "output_type": "execute_result"
    }
   ]
  },
  {
   "cell_type": "code",
   "source": [
    "vectors = np.array([ [topics[1] for topics in doc_topics] for doc_topics in all_topics])"
   ],
   "metadata": {
    "id": "twvebAecKmhf",
    "ExecuteTime": {
     "end_time": "2023-06-14T14:48:51.770074Z",
     "start_time": "2023-06-14T14:48:50.717676400Z"
    }
   },
   "execution_count": 80,
   "outputs": []
  },
  {
   "cell_type": "code",
   "source": [
    "top2words = {i:optimal_model.print_topic(i) for i in range(optimal_model.num_topics)}"
   ],
   "metadata": {
    "id": "yHyxldmVVOKS",
    "ExecuteTime": {
     "end_time": "2023-06-14T14:48:51.856220600Z",
     "start_time": "2023-06-14T14:48:51.776002600Z"
    }
   },
   "execution_count": 81,
   "outputs": []
  },
  {
   "cell_type": "code",
   "source": [
    "df['dominant_topic'] = np.argmax(vectors,axis=1)\n",
    "df['dominant_words'] = df['dominant_topic'].apply(lambda x: top2words[x])\n",
    "df['metadata'] = df.apply(lambda row:f'{row.tipo}\\t{row.departamento}\\t{row.title}\\t{row.objetivo}\\t{row.dominant_topic}\\t{row.dominant_words}', axis=1)"
   ],
   "metadata": {
    "id": "kxyOgtMfKvr1",
    "ExecuteTime": {
     "end_time": "2023-06-14T14:48:51.926935700Z",
     "start_time": "2023-06-14T14:48:51.857320900Z"
    }
   },
   "execution_count": 82,
   "outputs": []
  },
  {
   "cell_type": "code",
   "source": [
    "np.savetxt('values.tsv', vectors, delimiter='\\t')\n",
    "import numpy as np\n",
    "metadata = 'Tipo\\tDepartamento\\tTitulo\\tObjetivo\\tDominant_Topic\\tDominant_Words\\n'+'\\n'.join(df['metadata'].tolist())\n",
    "with open('metadata.tsv','w+') as file:\n",
    "  file.write(metadata)"
   ],
   "metadata": {
    "id": "jYfn_F8gKoWC",
    "ExecuteTime": {
     "end_time": "2023-06-14T14:48:52.004630100Z",
     "start_time": "2023-06-14T14:48:51.920811500Z"
    }
   },
   "execution_count": 83,
   "outputs": []
  },
  {
   "cell_type": "markdown",
   "source": [
    "\n",
    "\n",
    "*   ACTIVIDAD 1: Qué información importante encontró con el modelo, analice un documento de la controloría\n",
    "*   ACTIVIDAD 2: Conclusiones del laboratorio\n",
    "\n",
    "\n"
   ],
   "metadata": {
    "id": "aLZuqpywlcmi"
   }
  },
  {
   "cell_type": "code",
   "source": [],
   "metadata": {
    "id": "kBR_wa6Jlscm"
   },
   "execution_count": null,
   "outputs": []
  }
 ]
}
